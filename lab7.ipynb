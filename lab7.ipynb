{
 "cells": [
  {
   "cell_type": "code",
   "execution_count": 1,
   "metadata": {
    "colab": {
     "base_uri": "https://localhost:8080/"
    },
    "id": "jK4ifl_3zYcP",
    "outputId": "811e1179-237c-43f5-b3d9-86388ac23a9a"
   },
   "outputs": [
    {
     "name": "stdout",
     "output_type": "stream",
     "text": [
      "Collecting segmentation_models_pytorch\n",
      "  Downloading segmentation_models_pytorch-0.5.0-py3-none-any.whl.metadata (17 kB)\n",
      "Requirement already satisfied: timm in /usr/local/lib/python3.11/dist-packages (1.0.15)\n",
      "Requirement already satisfied: huggingface-hub>=0.24 in /usr/local/lib/python3.11/dist-packages (from segmentation_models_pytorch) (0.30.2)\n",
      "Requirement already satisfied: numpy>=1.19.3 in /usr/local/lib/python3.11/dist-packages (from segmentation_models_pytorch) (2.0.2)\n",
      "Requirement already satisfied: pillow>=8 in /usr/local/lib/python3.11/dist-packages (from segmentation_models_pytorch) (11.2.1)\n",
      "Requirement already satisfied: safetensors>=0.3.1 in /usr/local/lib/python3.11/dist-packages (from segmentation_models_pytorch) (0.5.3)\n",
      "Requirement already satisfied: torch>=1.8 in /usr/local/lib/python3.11/dist-packages (from segmentation_models_pytorch) (2.6.0+cu124)\n",
      "Requirement already satisfied: torchvision>=0.9 in /usr/local/lib/python3.11/dist-packages (from segmentation_models_pytorch) (0.21.0+cu124)\n",
      "Requirement already satisfied: tqdm>=4.42.1 in /usr/local/lib/python3.11/dist-packages (from segmentation_models_pytorch) (4.67.1)\n",
      "Requirement already satisfied: pyyaml in /usr/local/lib/python3.11/dist-packages (from timm) (6.0.2)\n",
      "Requirement already satisfied: filelock in /usr/local/lib/python3.11/dist-packages (from huggingface-hub>=0.24->segmentation_models_pytorch) (3.18.0)\n",
      "Requirement already satisfied: fsspec>=2023.5.0 in /usr/local/lib/python3.11/dist-packages (from huggingface-hub>=0.24->segmentation_models_pytorch) (2025.3.2)\n",
      "Requirement already satisfied: packaging>=20.9 in /usr/local/lib/python3.11/dist-packages (from huggingface-hub>=0.24->segmentation_models_pytorch) (24.2)\n",
      "Requirement already satisfied: requests in /usr/local/lib/python3.11/dist-packages (from huggingface-hub>=0.24->segmentation_models_pytorch) (2.32.3)\n",
      "Requirement already satisfied: typing-extensions>=3.7.4.3 in /usr/local/lib/python3.11/dist-packages (from huggingface-hub>=0.24->segmentation_models_pytorch) (4.13.2)\n",
      "Requirement already satisfied: networkx in /usr/local/lib/python3.11/dist-packages (from torch>=1.8->segmentation_models_pytorch) (3.4.2)\n",
      "Requirement already satisfied: jinja2 in /usr/local/lib/python3.11/dist-packages (from torch>=1.8->segmentation_models_pytorch) (3.1.6)\n",
      "Collecting nvidia-cuda-nvrtc-cu12==12.4.127 (from torch>=1.8->segmentation_models_pytorch)\n",
      "  Downloading nvidia_cuda_nvrtc_cu12-12.4.127-py3-none-manylinux2014_x86_64.whl.metadata (1.5 kB)\n",
      "Collecting nvidia-cuda-runtime-cu12==12.4.127 (from torch>=1.8->segmentation_models_pytorch)\n",
      "  Downloading nvidia_cuda_runtime_cu12-12.4.127-py3-none-manylinux2014_x86_64.whl.metadata (1.5 kB)\n",
      "Collecting nvidia-cuda-cupti-cu12==12.4.127 (from torch>=1.8->segmentation_models_pytorch)\n",
      "  Downloading nvidia_cuda_cupti_cu12-12.4.127-py3-none-manylinux2014_x86_64.whl.metadata (1.6 kB)\n",
      "Collecting nvidia-cudnn-cu12==9.1.0.70 (from torch>=1.8->segmentation_models_pytorch)\n",
      "  Downloading nvidia_cudnn_cu12-9.1.0.70-py3-none-manylinux2014_x86_64.whl.metadata (1.6 kB)\n",
      "Collecting nvidia-cublas-cu12==12.4.5.8 (from torch>=1.8->segmentation_models_pytorch)\n",
      "  Downloading nvidia_cublas_cu12-12.4.5.8-py3-none-manylinux2014_x86_64.whl.metadata (1.5 kB)\n",
      "Collecting nvidia-cufft-cu12==11.2.1.3 (from torch>=1.8->segmentation_models_pytorch)\n",
      "  Downloading nvidia_cufft_cu12-11.2.1.3-py3-none-manylinux2014_x86_64.whl.metadata (1.5 kB)\n",
      "Collecting nvidia-curand-cu12==10.3.5.147 (from torch>=1.8->segmentation_models_pytorch)\n",
      "  Downloading nvidia_curand_cu12-10.3.5.147-py3-none-manylinux2014_x86_64.whl.metadata (1.5 kB)\n",
      "Collecting nvidia-cusolver-cu12==11.6.1.9 (from torch>=1.8->segmentation_models_pytorch)\n",
      "  Downloading nvidia_cusolver_cu12-11.6.1.9-py3-none-manylinux2014_x86_64.whl.metadata (1.6 kB)\n",
      "Collecting nvidia-cusparse-cu12==12.3.1.170 (from torch>=1.8->segmentation_models_pytorch)\n",
      "  Downloading nvidia_cusparse_cu12-12.3.1.170-py3-none-manylinux2014_x86_64.whl.metadata (1.6 kB)\n",
      "Requirement already satisfied: nvidia-cusparselt-cu12==0.6.2 in /usr/local/lib/python3.11/dist-packages (from torch>=1.8->segmentation_models_pytorch) (0.6.2)\n",
      "Requirement already satisfied: nvidia-nccl-cu12==2.21.5 in /usr/local/lib/python3.11/dist-packages (from torch>=1.8->segmentation_models_pytorch) (2.21.5)\n",
      "Requirement already satisfied: nvidia-nvtx-cu12==12.4.127 in /usr/local/lib/python3.11/dist-packages (from torch>=1.8->segmentation_models_pytorch) (12.4.127)\n",
      "Collecting nvidia-nvjitlink-cu12==12.4.127 (from torch>=1.8->segmentation_models_pytorch)\n",
      "  Downloading nvidia_nvjitlink_cu12-12.4.127-py3-none-manylinux2014_x86_64.whl.metadata (1.5 kB)\n",
      "Requirement already satisfied: triton==3.2.0 in /usr/local/lib/python3.11/dist-packages (from torch>=1.8->segmentation_models_pytorch) (3.2.0)\n",
      "Requirement already satisfied: sympy==1.13.1 in /usr/local/lib/python3.11/dist-packages (from torch>=1.8->segmentation_models_pytorch) (1.13.1)\n",
      "Requirement already satisfied: mpmath<1.4,>=1.1.0 in /usr/local/lib/python3.11/dist-packages (from sympy==1.13.1->torch>=1.8->segmentation_models_pytorch) (1.3.0)\n",
      "Requirement already satisfied: MarkupSafe>=2.0 in /usr/local/lib/python3.11/dist-packages (from jinja2->torch>=1.8->segmentation_models_pytorch) (3.0.2)\n",
      "Requirement already satisfied: charset-normalizer<4,>=2 in /usr/local/lib/python3.11/dist-packages (from requests->huggingface-hub>=0.24->segmentation_models_pytorch) (3.4.1)\n",
      "Requirement already satisfied: idna<4,>=2.5 in /usr/local/lib/python3.11/dist-packages (from requests->huggingface-hub>=0.24->segmentation_models_pytorch) (3.10)\n",
      "Requirement already satisfied: urllib3<3,>=1.21.1 in /usr/local/lib/python3.11/dist-packages (from requests->huggingface-hub>=0.24->segmentation_models_pytorch) (2.4.0)\n",
      "Requirement already satisfied: certifi>=2017.4.17 in /usr/local/lib/python3.11/dist-packages (from requests->huggingface-hub>=0.24->segmentation_models_pytorch) (2025.4.26)\n",
      "Downloading segmentation_models_pytorch-0.5.0-py3-none-any.whl (154 kB)\n",
      "\u001b[2K   \u001b[90m━━━━━━━━━━━━━━━━━━━━━━━━━━━━━━━━━━━━━━━━\u001b[0m \u001b[32m154.8/154.8 kB\u001b[0m \u001b[31m3.2 MB/s\u001b[0m eta \u001b[36m0:00:00\u001b[0m\n",
      "\u001b[?25hDownloading nvidia_cublas_cu12-12.4.5.8-py3-none-manylinux2014_x86_64.whl (363.4 MB)\n",
      "\u001b[2K   \u001b[90m━━━━━━━━━━━━━━━━━━━━━━━━━━━━━━━━━━━━━━━━\u001b[0m \u001b[32m363.4/363.4 MB\u001b[0m \u001b[31m3.7 MB/s\u001b[0m eta \u001b[36m0:00:00\u001b[0m\n",
      "\u001b[?25hDownloading nvidia_cuda_cupti_cu12-12.4.127-py3-none-manylinux2014_x86_64.whl (13.8 MB)\n",
      "\u001b[2K   \u001b[90m━━━━━━━━━━━━━━━━━━━━━━━━━━━━━━━━━━━━━━━━\u001b[0m \u001b[32m13.8/13.8 MB\u001b[0m \u001b[31m26.3 MB/s\u001b[0m eta \u001b[36m0:00:00\u001b[0m\n",
      "\u001b[?25hDownloading nvidia_cuda_nvrtc_cu12-12.4.127-py3-none-manylinux2014_x86_64.whl (24.6 MB)\n",
      "\u001b[2K   \u001b[90m━━━━━━━━━━━━━━━━━━━━━━━━━━━━━━━━━━━━━━━━\u001b[0m \u001b[32m24.6/24.6 MB\u001b[0m \u001b[31m31.4 MB/s\u001b[0m eta \u001b[36m0:00:00\u001b[0m\n",
      "\u001b[?25hDownloading nvidia_cuda_runtime_cu12-12.4.127-py3-none-manylinux2014_x86_64.whl (883 kB)\n",
      "\u001b[2K   \u001b[90m━━━━━━━━━━━━━━━━━━━━━━━━━━━━━━━━━━━━━━━━\u001b[0m \u001b[32m883.7/883.7 kB\u001b[0m \u001b[31m39.1 MB/s\u001b[0m eta \u001b[36m0:00:00\u001b[0m\n",
      "\u001b[?25hDownloading nvidia_cudnn_cu12-9.1.0.70-py3-none-manylinux2014_x86_64.whl (664.8 MB)\n",
      "\u001b[2K   \u001b[90m━━━━━━━━━━━━━━━━━━━━━━━━━━━━━━━━━━━━━━━━\u001b[0m \u001b[32m664.8/664.8 MB\u001b[0m \u001b[31m2.8 MB/s\u001b[0m eta \u001b[36m0:00:00\u001b[0m\n",
      "\u001b[?25hDownloading nvidia_cufft_cu12-11.2.1.3-py3-none-manylinux2014_x86_64.whl (211.5 MB)\n",
      "\u001b[2K   \u001b[90m━━━━━━━━━━━━━━━━━━━━━━━━━━━━━━━━━━━━━━━━\u001b[0m \u001b[32m211.5/211.5 MB\u001b[0m \u001b[31m6.4 MB/s\u001b[0m eta \u001b[36m0:00:00\u001b[0m\n",
      "\u001b[?25hDownloading nvidia_curand_cu12-10.3.5.147-py3-none-manylinux2014_x86_64.whl (56.3 MB)\n",
      "\u001b[2K   \u001b[90m━━━━━━━━━━━━━━━━━━━━━━━━━━━━━━━━━━━━━━━━\u001b[0m \u001b[32m56.3/56.3 MB\u001b[0m \u001b[31m13.4 MB/s\u001b[0m eta \u001b[36m0:00:00\u001b[0m\n",
      "\u001b[?25hDownloading nvidia_cusolver_cu12-11.6.1.9-py3-none-manylinux2014_x86_64.whl (127.9 MB)\n",
      "\u001b[2K   \u001b[90m━━━━━━━━━━━━━━━━━━━━━━━━━━━━━━━━━━━━━━━━\u001b[0m \u001b[32m127.9/127.9 MB\u001b[0m \u001b[31m7.5 MB/s\u001b[0m eta \u001b[36m0:00:00\u001b[0m\n",
      "\u001b[?25hDownloading nvidia_cusparse_cu12-12.3.1.170-py3-none-manylinux2014_x86_64.whl (207.5 MB)\n",
      "\u001b[2K   \u001b[90m━━━━━━━━━━━━━━━━━━━━━━━━━━━━━━━━━━━━━━━━\u001b[0m \u001b[32m207.5/207.5 MB\u001b[0m \u001b[31m5.5 MB/s\u001b[0m eta \u001b[36m0:00:00\u001b[0m\n",
      "\u001b[?25hDownloading nvidia_nvjitlink_cu12-12.4.127-py3-none-manylinux2014_x86_64.whl (21.1 MB)\n",
      "\u001b[2K   \u001b[90m━━━━━━━━━━━━━━━━━━━━━━━━━━━━━━━━━━━━━━━━\u001b[0m \u001b[32m21.1/21.1 MB\u001b[0m \u001b[31m103.4 MB/s\u001b[0m eta \u001b[36m0:00:00\u001b[0m\n",
      "\u001b[?25hInstalling collected packages: nvidia-nvjitlink-cu12, nvidia-curand-cu12, nvidia-cufft-cu12, nvidia-cuda-runtime-cu12, nvidia-cuda-nvrtc-cu12, nvidia-cuda-cupti-cu12, nvidia-cublas-cu12, nvidia-cusparse-cu12, nvidia-cudnn-cu12, nvidia-cusolver-cu12, segmentation_models_pytorch\n",
      "  Attempting uninstall: nvidia-nvjitlink-cu12\n",
      "    Found existing installation: nvidia-nvjitlink-cu12 12.5.82\n",
      "    Uninstalling nvidia-nvjitlink-cu12-12.5.82:\n",
      "      Successfully uninstalled nvidia-nvjitlink-cu12-12.5.82\n",
      "  Attempting uninstall: nvidia-curand-cu12\n",
      "    Found existing installation: nvidia-curand-cu12 10.3.6.82\n",
      "    Uninstalling nvidia-curand-cu12-10.3.6.82:\n",
      "      Successfully uninstalled nvidia-curand-cu12-10.3.6.82\n",
      "  Attempting uninstall: nvidia-cufft-cu12\n",
      "    Found existing installation: nvidia-cufft-cu12 11.2.3.61\n",
      "    Uninstalling nvidia-cufft-cu12-11.2.3.61:\n",
      "      Successfully uninstalled nvidia-cufft-cu12-11.2.3.61\n",
      "  Attempting uninstall: nvidia-cuda-runtime-cu12\n",
      "    Found existing installation: nvidia-cuda-runtime-cu12 12.5.82\n",
      "    Uninstalling nvidia-cuda-runtime-cu12-12.5.82:\n",
      "      Successfully uninstalled nvidia-cuda-runtime-cu12-12.5.82\n",
      "  Attempting uninstall: nvidia-cuda-nvrtc-cu12\n",
      "    Found existing installation: nvidia-cuda-nvrtc-cu12 12.5.82\n",
      "    Uninstalling nvidia-cuda-nvrtc-cu12-12.5.82:\n",
      "      Successfully uninstalled nvidia-cuda-nvrtc-cu12-12.5.82\n",
      "  Attempting uninstall: nvidia-cuda-cupti-cu12\n",
      "    Found existing installation: nvidia-cuda-cupti-cu12 12.5.82\n",
      "    Uninstalling nvidia-cuda-cupti-cu12-12.5.82:\n",
      "      Successfully uninstalled nvidia-cuda-cupti-cu12-12.5.82\n",
      "  Attempting uninstall: nvidia-cublas-cu12\n",
      "    Found existing installation: nvidia-cublas-cu12 12.5.3.2\n",
      "    Uninstalling nvidia-cublas-cu12-12.5.3.2:\n",
      "      Successfully uninstalled nvidia-cublas-cu12-12.5.3.2\n",
      "  Attempting uninstall: nvidia-cusparse-cu12\n",
      "    Found existing installation: nvidia-cusparse-cu12 12.5.1.3\n",
      "    Uninstalling nvidia-cusparse-cu12-12.5.1.3:\n",
      "      Successfully uninstalled nvidia-cusparse-cu12-12.5.1.3\n",
      "  Attempting uninstall: nvidia-cudnn-cu12\n",
      "    Found existing installation: nvidia-cudnn-cu12 9.3.0.75\n",
      "    Uninstalling nvidia-cudnn-cu12-9.3.0.75:\n",
      "      Successfully uninstalled nvidia-cudnn-cu12-9.3.0.75\n",
      "  Attempting uninstall: nvidia-cusolver-cu12\n",
      "    Found existing installation: nvidia-cusolver-cu12 11.6.3.83\n",
      "    Uninstalling nvidia-cusolver-cu12-11.6.3.83:\n",
      "      Successfully uninstalled nvidia-cusolver-cu12-11.6.3.83\n",
      "Successfully installed nvidia-cublas-cu12-12.4.5.8 nvidia-cuda-cupti-cu12-12.4.127 nvidia-cuda-nvrtc-cu12-12.4.127 nvidia-cuda-runtime-cu12-12.4.127 nvidia-cudnn-cu12-9.1.0.70 nvidia-cufft-cu12-11.2.1.3 nvidia-curand-cu12-10.3.5.147 nvidia-cusolver-cu12-11.6.1.9 nvidia-cusparse-cu12-12.3.1.170 nvidia-nvjitlink-cu12-12.4.127 segmentation_models_pytorch-0.5.0\n",
      "\u001b[2K   \u001b[90m━━━━━━━━━━━━━━━━━━━━━━━━━━━━━━━━━━━━━━━━\u001b[0m \u001b[32m137.0/137.0 kB\u001b[0m \u001b[31m13.0 MB/s\u001b[0m eta \u001b[36m0:00:00\u001b[0m\n",
      "\u001b[?25h"
     ]
    }
   ],
   "source": [
    "!pip install -U segmentation_models_pytorch timm\n",
    "!pip install -q albumentations==1.4.3"
   ]
  },
  {
   "cell_type": "markdown",
   "metadata": {
    "id": "eDzjIepPLSSB"
   },
   "source": [
    "## Библиотеки и очень полезные вещи"
   ]
  },
  {
   "cell_type": "code",
   "execution_count": 2,
   "metadata": {
    "colab": {
     "base_uri": "https://localhost:8080/"
    },
    "id": "CV0Nnz11vsrc",
    "outputId": "e290295f-51cf-41c5-dc32-831d5df584cf"
   },
   "outputs": [
    {
     "name": "stdout",
     "output_type": "stream",
     "text": [
      "DEVICE: cuda Tesla T4\n"
     ]
    }
   ],
   "source": [
    "import os, time, random, math, numpy as np\n",
    "import torch, torch.nn as nn\n",
    "from torch.utils.data import DataLoader, random_split\n",
    "from torchvision import datasets\n",
    "import albumentations as A\n",
    "from albumentations.pytorch import ToTensorV2\n",
    "import segmentation_models_pytorch as smp\n",
    "from torch.amp import GradScaler, autocast\n",
    "from tqdm.auto import tqdm\n",
    "from typing import Optional, Callable, Tuple\n",
    "\n",
    "SEED = 42\n",
    "torch.manual_seed(SEED)\n",
    "np.random.seed(SEED)\n",
    "random.seed(SEED)\n",
    "\n",
    "torch.use_deterministic_algorithms(True, warn_only=True)\n",
    "\n",
    "DEVICE = 'cuda' if torch.cuda.is_available() else 'cpu'\n",
    "print('DEVICE:', DEVICE, torch.cuda.get_device_name(0) if DEVICE=='cuda' else '')\n",
    "\n",
    "IMG_SIZE      = 320\n",
    "BATCH_SIZE    = 8\n",
    "ACCUM_STEPS   = 2\n",
    "NUM_WORKERS   = 0\n",
    "NUM_CLASSES   = 21\n",
    "ROOT_DIR      = './data'\n",
    "\n",
    "MEAN = (0.485, 0.456, 0.406)\n",
    "STD  = (0.229, 0.224, 0.225)"
   ]
  },
  {
   "cell_type": "markdown",
   "metadata": {
    "id": "IedgHexNLYwk"
   },
   "source": [
    "## Аугментации"
   ]
  },
  {
   "cell_type": "markdown",
   "metadata": {},
   "source": [
    "### Зачем такие аугментации?\n",
    "\n",
    "- **RandomResizedCrop** помогает модели быть инвариантной к масштабу и фрейминигу объекта.  \n",
    "- **HorizontalFlip** увеличивает разнообразие ориентаций без изменения семантики.  \n",
    "- **ShiftScaleRotate** восстанавливает устойчивость к небольшим геометрическим искажениям (кадрирование, наклоны).  \n",
    "- **ColorJitter** и **GaussianBlur** (в strong_aug) учат модель устойчивости к изменению освещения, контраста и шуму.  \n",
    "- **Нормализация** стандартизирует входы под предобученные сети.  \n",
    "- **Разделение train/val** с разными уровнями агрессии аугментаций предотвращает утечку артефактов в валидацию."
   ]
  },
  {
   "cell_type": "code",
   "execution_count": 3,
   "metadata": {
    "colab": {
     "base_uri": "https://localhost:8080/"
    },
    "id": "xKUTaa0cwqvP",
    "outputId": "ba78d19b-96ba-47b0-9f15-3a3931af0666"
   },
   "outputs": [
    {
     "name": "stderr",
     "output_type": "stream",
     "text": [
      "<ipython-input-3-84950e3d1090>:2: DeprecationWarning: Initializing with 'height' and 'width' is deprecated. Please use a tuple (height, width) for the 'size' argument.\n",
      "  A.RandomResizedCrop(\n",
      "<ipython-input-3-84950e3d1090>:19: DeprecationWarning: Initializing with 'height' and 'width' is deprecated. Please use a tuple (height, width) for the 'size' argument.\n",
      "  A.RandomResizedCrop(\n"
     ]
    }
   ],
   "source": [
    "train_aug = A.Compose([\n",
    "    A.RandomResizedCrop(\n",
    "        height=IMG_SIZE, width=IMG_SIZE,\n",
    "        scale=(0.5, 1.5), ratio=(0.75, 1.33)\n",
    "    ),\n",
    "    A.HorizontalFlip(p=0.5),\n",
    "    A.ShiftScaleRotate(0.10, 0.15, 15, p=0.5),\n",
    "    A.Normalize(MEAN, STD),\n",
    "    ToTensorV2(),\n",
    "])\n",
    "\n",
    "val_aug = A.Compose([\n",
    "    A.Resize(height=IMG_SIZE, width=IMG_SIZE),\n",
    "    A.Normalize(MEAN, STD),\n",
    "    ToTensorV2(),\n",
    "])\n",
    "\n",
    "strong_aug = A.Compose([\n",
    "    A.RandomResizedCrop(\n",
    "        height=IMG_SIZE, width=IMG_SIZE,\n",
    "        scale=(0.4, 1.8)\n",
    "    ),\n",
    "    A.HorizontalFlip(p=0.5),\n",
    "    A.ColorJitter(0.4, 0.4, 0.4, 0.2, p=0.5),\n",
    "    A.ShiftScaleRotate(0.20, 0.25, 20, p=0.7),\n",
    "    A.GaussianBlur(p=0.25),\n",
    "    A.Normalize(MEAN, STD),\n",
    "    ToTensorV2(),\n",
    "])"
   ]
  },
  {
   "cell_type": "markdown",
   "metadata": {
    "id": "VcQmT_9SLdcD"
   },
   "source": [
    "## Враппер датасета"
   ]
  },
  {
   "cell_type": "markdown",
   "metadata": {},
   "source": [
    "- **Источник:** обёртка над `torchvision.datasets.VOCSegmentation(year=2012)`\n",
    "- **Transform:** принимает `image`+`mask` вместе (Albumentations) → гарантирует совпадение аугментаций  \n",
    "- **Выход:**  \n",
    "  - `img: torch.Tensor` (C×H×W, нормализованный)  \n",
    "  - `mask: torch.LongTensor` (H×W, целые лейблы)  \n",
    "- **Зачем:**  \n",
    "  - Синхронные геометрические/цветовые аугментации  \n",
    "  - Простой PyTorch-совместимый `Dataset` для сегментации "
   ]
  },
  {
   "cell_type": "code",
   "execution_count": 4,
   "metadata": {
    "id": "IXox-l1mwuWz"
   },
   "outputs": [],
   "source": [
    "class VOCSegDataset(torch.utils.data.Dataset):\n",
    "    def __init__(\n",
    "        self,\n",
    "        root: str,\n",
    "        image_set: str,\n",
    "        transform: Optional[Callable] = None,\n",
    "    ):\n",
    "        self.base = datasets.VOCSegmentation(\n",
    "            root,\n",
    "            year=\"2012\",\n",
    "            image_set=image_set,\n",
    "            download=True,\n",
    "        )\n",
    "        self.transform = transform\n",
    "\n",
    "    def __len__(self) -> int:\n",
    "        return len(self.base)\n",
    "\n",
    "    def __getitem__(self, idx: int) -> Tuple[torch.Tensor, torch.Tensor]:\n",
    "        img, mask = self.base[idx]\n",
    "        mask = np.array(mask, dtype=np.int64)\n",
    "\n",
    "        if self.transform:\n",
    "            sample = self.transform(\n",
    "                image=np.array(img),\n",
    "                mask=mask,\n",
    "            )\n",
    "            img = sample[\"image\"]\n",
    "            mask = sample[\"mask\"].long()\n",
    "\n",
    "        return img, mask"
   ]
  },
  {
   "cell_type": "markdown",
   "metadata": {
    "id": "SFCsCjPTLfxF"
   },
   "source": [
    "## Загрузчики данных"
   ]
  },
  {
   "cell_type": "markdown",
   "metadata": {},
   "source": [
    "Почему выбрали PASCAL VOC 2012 для сегментации\n",
    "\n",
    "- **Стандартный бенчмарк:** широко используется в научных работах по семантической сегментации.  \n",
    "- **Разнообразие классов:** 20 категорий + фон, подходит для многоклассовой постановки.  \n",
    "- **Достаточный объём:** ~10 000 изображений — позволяет обучать и валидировать модели без чрезмерных затрат.  \n",
    "- **Готовые маски:** разметка «pixel-wise» облегчает оценку метрик (mIoU, Jaccard). "
   ]
  },
  {
   "cell_type": "code",
   "execution_count": 5,
   "metadata": {
    "colab": {
     "base_uri": "https://localhost:8080/"
    },
    "id": "9fmmHMSOxJ06",
    "outputId": "b2714d9d-8645-4daf-afde-1224f830a794"
   },
   "outputs": [
    {
     "name": "stderr",
     "output_type": "stream",
     "text": [
      "100%|██████████| 2.00G/2.00G [02:01<00:00, 16.5MB/s]\n"
     ]
    },
    {
     "name": "stdout",
     "output_type": "stream",
     "text": [
      "Dataset sizes ➜ train 1317 | val 147 | test 1449\n"
     ]
    }
   ],
   "source": [
    "gen = torch.Generator().manual_seed(SEED)\n",
    "\n",
    "train_full = VOCSegDataset(ROOT_DIR, 'train', transform=train_aug)\n",
    "n_total = len(train_full)\n",
    "n_train = int(0.9 * n_total)\n",
    "n_val = n_total - n_train\n",
    "train_ds, val_ds = random_split(train_full, [n_train, n_val], generator=gen)\n",
    "val_ds.dataset.transform = val_aug\n",
    "\n",
    "test_ds = VOCSegDataset(ROOT_DIR, 'val', transform=val_aug)\n",
    "\n",
    "print(f'Dataset sizes ➜ train {len(train_ds)} | val {len(val_ds)} | test {len(test_ds)}')\n",
    "\n",
    "train_loader = DataLoader(train_ds, BATCH_SIZE, shuffle=True,\n",
    "                          generator=gen, num_workers=NUM_WORKERS, pin_memory=True)\n",
    "val_loader = DataLoader(val_ds,   BATCH_SIZE, shuffle=False,\n",
    "                          num_workers=NUM_WORKERS, pin_memory=True)\n",
    "test_loader = DataLoader(test_ds,  BATCH_SIZE, shuffle=False,\n",
    "                          num_workers=NUM_WORKERS, pin_memory=True)"
   ]
  },
  {
   "cell_type": "markdown",
   "metadata": {
    "id": "-K2ZX-zcLnAl"
   },
   "source": [
    "## Полезные штуки"
   ]
  },
  {
   "cell_type": "markdown",
   "metadata": {},
   "source": [
    "- **IoU (Intersection over Union)**  \n",
    "  Оценивает, насколько область предсказанной маски пересекается с областью истинной маски для каждого класса. Чем выше, тем лучше совпадение.\n",
    "\n",
    "- **mIoU (mean IoU)**  \n",
    "  Среднее значение IoU по всем классам (кроме пикселей с меткой `ignore_index`). Позволяет сравнивать качество сегментации независимо от частоты классов."
   ]
  },
  {
   "cell_type": "code",
   "execution_count": 6,
   "metadata": {
    "id": "VLquoaQ4zMtU"
   },
   "outputs": [],
   "source": [
    "def mean_iou(\n",
    "    logits: torch.Tensor,\n",
    "    masks: torch.Tensor,\n",
    "    ignore: int = 255,\n",
    ") -> float:\n",
    "    preds = logits.argmax(dim=1).cpu().numpy()\n",
    "    gts = masks.cpu().numpy()\n",
    "\n",
    "    ious: list[float] = []\n",
    "\n",
    "    for cls in range(NUM_CLASSES):\n",
    "        if cls == ignore:\n",
    "            continue\n",
    "\n",
    "        pred_count = (preds == cls).sum()\n",
    "        gt_count = (gts == cls).sum()\n",
    "        if pred_count == 0 and gt_count == 0:\n",
    "            continue\n",
    "\n",
    "        inter = np.logical_and(preds == cls, gts == cls).sum()\n",
    "        union = np.logical_or(preds == cls, gts == cls).sum()\n",
    "\n",
    "        if union == 0:\n",
    "            continue\n",
    "\n",
    "        ious.append(inter / union)\n",
    "\n",
    "    return float(np.mean(ious)) if ious else 0.0\n",
    "\n",
    "def fit_model(\n",
    "    model: nn.Module,\n",
    "    epochs: int,\n",
    "    lr: float,\n",
    "    train_aug_pipe: A.Compose,\n",
    ") -> float:\n",
    "    train_ds.dataset.transform = train_aug_pipe\n",
    "    criterion = nn.CrossEntropyLoss(ignore_index=255)\n",
    "    optimizer = torch.optim.AdamW(\n",
    "        model.parameters(),\n",
    "        lr=lr,\n",
    "        weight_decay=1e-4,\n",
    "    )\n",
    "    scheduler = torch.optim.lr_scheduler.CosineAnnealingLR(\n",
    "        optimizer,\n",
    "        T_max=epochs,\n",
    "    )\n",
    "    scaler = GradScaler()\n",
    "\n",
    "    best_miou = 0.0\n",
    "    best_state: dict[str, torch.Tensor] | None = None\n",
    "\n",
    "    for epoch in range(1, epochs + 1):\n",
    "        model.train()\n",
    "        optimizer.zero_grad()\n",
    "        epoch_loss = 0.0\n",
    "\n",
    "        for step, (x, y) in enumerate(tqdm(train_loader, leave=False), start=1):\n",
    "            x = x.to(DEVICE)\n",
    "            y = y.to(DEVICE)\n",
    "\n",
    "            with autocast(device_type=DEVICE):\n",
    "                logits = model(x)\n",
    "                loss = criterion(logits, y) / ACCUM_STEPS\n",
    "\n",
    "            scaler.scale(loss).backward()\n",
    "\n",
    "            if step % ACCUM_STEPS == 0 or step == len(train_loader):\n",
    "                scaler.step(optimizer)\n",
    "                scaler.update()\n",
    "                optimizer.zero_grad()\n",
    "\n",
    "            epoch_loss += loss.item() * ACCUM_STEPS\n",
    "\n",
    "        scheduler.step()\n",
    "\n",
    "        model.eval()\n",
    "        val_ious: list[float] = []\n",
    "\n",
    "        with torch.no_grad():\n",
    "            for x, y in val_loader:\n",
    "                x = x.to(DEVICE)\n",
    "                with autocast(device_type=DEVICE):\n",
    "                    val_ious.append(mean_iou(model(x), y))\n",
    "\n",
    "        miou = float(np.mean(val_ious))\n",
    "        avg_loss = epoch_loss / len(train_loader)\n",
    "\n",
    "        print(\n",
    "            f\"E{epoch:02d}/{epochs}  \"\n",
    "            f\"loss {avg_loss:.3f}  \"\n",
    "            f\"val mIoU {miou:.3f}\"\n",
    "        )\n",
    "\n",
    "        if miou > best_miou:\n",
    "            best_miou = miou\n",
    "            best_state = model.state_dict()\n",
    "\n",
    "    if best_state is not None:\n",
    "        model.load_state_dict(best_state)\n",
    "\n",
    "    return best_miou\n",
    "\n",
    "def evaluate(\n",
    "    model: nn.Module,\n",
    "    name: str,\n",
    ") -> float:\n",
    "    model.eval()\n",
    "    test_ious: list[float] = []\n",
    "\n",
    "    with torch.no_grad():\n",
    "        for x, y in test_loader:\n",
    "            x = x.to(DEVICE)\n",
    "            with autocast(device_type=DEVICE):\n",
    "                test_ious.append(mean_iou(model(x), y))\n",
    "\n",
    "    miou = float(np.mean(test_ious))\n",
    "\n",
    "    print(f\"{name:16s} ➜ test mIoU {miou:.3f}\")\n",
    "    return miou"
   ]
  },
  {
   "cell_type": "markdown",
   "metadata": {
    "id": "CilSfvdyLxH4"
   },
   "source": [
    "## Baseline"
   ]
  },
  {
   "cell_type": "markdown",
   "metadata": {
    "id": "LeXYjoWZL2Cg"
   },
   "source": [
    "### U-Net, но не U-Net"
   ]
  },
  {
   "cell_type": "markdown",
   "metadata": {},
   "source": [
    "- **Архитектура**: стандартный UNet с энкодером ResNet-34, предобученным на ImageNet; выход без активации (`activation=None`).  \n",
    "- **Обучение**: 8 эпох, lr=1e-4, базовая аугментация (случайный кроп, флип, поворот, нормализация), батч-накопление = 1."
   ]
  },
  {
   "cell_type": "code",
   "execution_count": 7,
   "metadata": {
    "colab": {
     "base_uri": "https://localhost:8080/",
     "height": 405,
     "referenced_widgets": [
      "10d0ff6189c24c73a19f8d384f0dfaa0",
      "7be990f19e884662bea1940d278cbbae",
      "bbd54efee4e94c61b4070f0179ac991d",
      "0324fdd95be04470b7e994ae347f9404",
      "b32e65451a284af2b65aa6b2dacd2012",
      "d4306ee1cdcf4ba7ab9063f34ad4c521",
      "411bf942692147c8b9fa9e1e701fb296",
      "d3a568f49093447ca827bf9c69d1b9bf",
      "5cb611622fa24c5bb4e4328b01eaa31e",
      "68a2aa91dd904bdba5870da80bdd30c2",
      "c6e303dd78244a74b0ae5a543aa09148",
      "e35304cdd5854ebc9e2e29f53f7e0481",
      "59584acd6275404db2cb78d4975235f8",
      "6dad0c1e1ce9451181d3fe6c0538781e",
      "47b85661c40a4f4c8e6cc939eac3758f",
      "3fdf2d3dbbf849d383576967cdc5f4e0",
      "6e3d0ae5f2ec4426acb2b44193acaf28",
      "e73b9611241d4682b8758f917463eeca",
      "0fd5f570b1b24e4d9837e46866b120f5",
      "a54f84fc1eca4aa0acfccbd5353ed2ad",
      "24941f32e7d74a4f926851ba4350855d",
      "22c2737399f54484b62f66950c7afd9a",
      "df8c2830e2d04333a05352b9d3308bb6",
      "cb2077bd1c434c67af745a69a4b78e8c",
      "0dc2d8194fb6411e8b62914ac07a3c73",
      "5325522445db45998379e25fe8df9c14",
      "9740c6d5c1c848c7b0d1bf5d09cfad8e",
      "e16f93f414b34ae7ad51c45c2eadb634",
      "45f84a4f0d5d47eb99c48ddb057b108a",
      "bc3e3e77a0b9446583dc8a0518b358f6",
      "dacbc04f3da0492da87557662f279119",
      "7eda187a30fb4e40a8e2f7bf4f323a78",
      "2c9d79602f054812872a9dab76b0278f",
      "0363fb40c7c1469084a9538476ad8397",
      "e2da27f0c42b49f2a20be665ffab18b1",
      "431e46e1988c48e5b16ab40c879c2424",
      "d943792150a14d17b6cffbd60ff708a7",
      "6d0e8abeb3334ad2a043740a4924a7c5",
      "3c037b92642f40448ed8bf340df87c0d",
      "295f330bfb60485383987d0b2cc4b91a",
      "4cc79a89f33848f8b2ad64cf5c6115d3",
      "90676253587040aa9385def81e4992d1",
      "80d93ad52a0d4cf5a0985e54dd6713fd",
      "3d8b408185e94ba5bce95b1ae32ca3ec",
      "220352cefadb41b7810146da549b010b",
      "6b4c513aa8c64b1c95c40a4b75e7c3f1",
      "0acc0f4bd4df4ec782e1978cc6d22b19",
      "b2b8033576f644caa421f27e3d9be95b",
      "f6ffd536359a466cb2a4b8d7181641cd",
      "dfacd136aad142839f39efd35aa929d8",
      "56b34d83bc724fe4837520b70412325c",
      "a0a1cace48714620ae41e1ab2d067511",
      "9916628240874c4e8c85ec495e99c36b",
      "90e67f24c2e24ba5b5aa4683215541fe",
      "a176f1d9da134f71a77febe34c6cd190",
      "38f1c3618a684875b5c9795e8c80cd6e",
      "4a4d344be41d473989afb6d0284d74d3",
      "d1aeb600162b41dfb65a56d858c12b8e",
      "0f661d5ce3a24c6e8f4521261c903f42",
      "3e460b4316be46bd8490e492c929b2b2",
      "eb5a4a627a1c405b938373dcb73cd7ea",
      "a8e6ee07a588411c90956923c6a7b724",
      "38f4db21793c4deb80ca7d2d17514323",
      "b468ffde044d45f1a1e606968d985d10",
      "6a23036f0975459090dbc7d10dcb713f",
      "a65fe8287b094330953450a9f9a07bde",
      "8f0ccceea44048d5a2a5bd05d132d12a",
      "8f32a3f352b348a29da820ec5cb795a5",
      "aae131da67804842a175f1d131950b28",
      "09ee1176b56d462cbff20076bb58b46a",
      "9615b3cf84864b25808bd85e046b5e65",
      "5a4a3e8b857d4f0d873af2e7a0226090",
      "86495450f8a844ef902c3a03efc85dc0",
      "2826443f05494b7c954e8be33b4e5f04",
      "9ebe9e58fdee4f67b1a227a827cba082",
      "b067d90167dc41d799f5e431a09b0a9f",
      "50839d6d6745456b8b51edc9731bf34d",
      "a93698e025fe4af783024beeacef1006",
      "bdc1dfe7e80f4728a4a29f2350c80437",
      "4437d8549d5642939ebc72c8faf19aa2",
      "190e12b65c8f422ab12a9b21239c9112",
      "5caaafd626df4eef94151d59efa11421",
      "7937f3b702d34a9eb8f8c6e77a79b1fa",
      "988d7e0ebeed436bb4bb65c26f0661c9",
      "e8b2beb92bbf4140a436d02baf569c21",
      "73173be6824f468ba14b45c7f321f3cc",
      "040205b34e8847f882e6f42c43a5f547",
      "921cdca4906c479a85fef9d5091e7178",
      "c9e062481e05410e996a2bdcebfb98d9",
      "ad558b9d21ff42eab5fb264730ca69ff",
      "dd2620668a864e82b1ac8d2631827e4c",
      "d6c956000efa4cbe8bd3368f92590253",
      "7b91dcb98ebd4d91a480baf2b4877dfa",
      "56aabb47752e4dda896fa8a8c6e5f93b",
      "c3a558fa733a4b65ab2fc5bac09497f9",
      "a93367af1d7a44758382bcddbb8a37e3",
      "1384854bba4a424f83a6448c222e67e1",
      "8969ccec16ef486587fda18b248f7d57",
      "0555c84ed9ff46c8abddf55f748b9f8c",
      "9d07f73cad7a40098a86bace620df0ea",
      "7a5989ae9a3949d3963aabf5c73d2ceb",
      "cfbfe19d2db84287838e74cc044cd395",
      "793717c76cfd46e39b0eb29282390889",
      "7dceda50d7364ad4a017be0601a25952",
      "b427abd254a5414fa9238d293f900220",
      "d19af9006e99414e820a38c4385f010b",
      "6a661c5dc4184cbabd36adfd3ac84e09",
      "6ed3ab3d40ca4981ba1feed3e51d512d",
      "cafba8e4bfad4a5986ee0c2feef29fc7",
      "d9b44690624a4eb7aff6f6bd92a4a16f"
     ]
    },
    "id": "uwGOPbWlzPmU",
    "outputId": "bebfdec7-608d-49a0-d7c3-281c34f7299f"
   },
   "outputs": [
    {
     "name": "stderr",
     "output_type": "stream",
     "text": [
      "/usr/local/lib/python3.11/dist-packages/huggingface_hub/utils/_auth.py:94: UserWarning: \n",
      "The secret `HF_TOKEN` does not exist in your Colab secrets.\n",
      "To authenticate with the Hugging Face Hub, create a token in your settings tab (https://huggingface.co/settings/tokens), set it as secret in your Google Colab and restart your session.\n",
      "You will be able to reuse this secret in all of your notebooks.\n",
      "Please note that authentication is recommended but still optional to access public models or datasets.\n",
      "  warnings.warn(\n"
     ]
    },
    {
     "data": {
      "application/vnd.jupyter.widget-view+json": {
       "model_id": "10d0ff6189c24c73a19f8d384f0dfaa0",
       "version_major": 2,
       "version_minor": 0
      },
      "text/plain": [
       "config.json:   0%|          | 0.00/156 [00:00<?, ?B/s]"
      ]
     },
     "metadata": {},
     "output_type": "display_data"
    },
    {
     "data": {
      "application/vnd.jupyter.widget-view+json": {
       "model_id": "e35304cdd5854ebc9e2e29f53f7e0481",
       "version_major": 2,
       "version_minor": 0
      },
      "text/plain": [
       "model.safetensors:   0%|          | 0.00/87.3M [00:00<?, ?B/s]"
      ]
     },
     "metadata": {},
     "output_type": "display_data"
    },
    {
     "data": {
      "application/vnd.jupyter.widget-view+json": {
       "model_id": "df8c2830e2d04333a05352b9d3308bb6",
       "version_major": 2,
       "version_minor": 0
      },
      "text/plain": [
       "  0%|          | 0/165 [00:00<?, ?it/s]"
      ]
     },
     "metadata": {},
     "output_type": "display_data"
    },
    {
     "name": "stderr",
     "output_type": "stream",
     "text": [
      "/usr/local/lib/python3.11/dist-packages/torch/nn/functional.py:3494: UserWarning: nll_loss2d_forward_out_cuda_template does not have a deterministic implementation, but you set 'torch.use_deterministic_algorithms(True, warn_only=True)'. You can file an issue at https://github.com/pytorch/pytorch/issues to help us prioritize adding deterministic support for this operation. (Triggered internally at /pytorch/aten/src/ATen/Context.cpp:92.)\n",
      "  return torch._C._nn.cross_entropy_loss(\n"
     ]
    },
    {
     "name": "stdout",
     "output_type": "stream",
     "text": [
      "E01/8  loss 2.649  val mIoU 0.078\n"
     ]
    },
    {
     "data": {
      "application/vnd.jupyter.widget-view+json": {
       "model_id": "0363fb40c7c1469084a9538476ad8397",
       "version_major": 2,
       "version_minor": 0
      },
      "text/plain": [
       "  0%|          | 0/165 [00:00<?, ?it/s]"
      ]
     },
     "metadata": {},
     "output_type": "display_data"
    },
    {
     "name": "stdout",
     "output_type": "stream",
     "text": [
      "E02/8  loss 2.042  val mIoU 0.097\n"
     ]
    },
    {
     "data": {
      "application/vnd.jupyter.widget-view+json": {
       "model_id": "220352cefadb41b7810146da549b010b",
       "version_major": 2,
       "version_minor": 0
      },
      "text/plain": [
       "  0%|          | 0/165 [00:00<?, ?it/s]"
      ]
     },
     "metadata": {},
     "output_type": "display_data"
    },
    {
     "name": "stdout",
     "output_type": "stream",
     "text": [
      "E03/8  loss 1.643  val mIoU 0.119\n"
     ]
    },
    {
     "data": {
      "application/vnd.jupyter.widget-view+json": {
       "model_id": "38f1c3618a684875b5c9795e8c80cd6e",
       "version_major": 2,
       "version_minor": 0
      },
      "text/plain": [
       "  0%|          | 0/165 [00:00<?, ?it/s]"
      ]
     },
     "metadata": {},
     "output_type": "display_data"
    },
    {
     "name": "stdout",
     "output_type": "stream",
     "text": [
      "E04/8  loss 1.364  val mIoU 0.136\n"
     ]
    },
    {
     "data": {
      "application/vnd.jupyter.widget-view+json": {
       "model_id": "8f0ccceea44048d5a2a5bd05d132d12a",
       "version_major": 2,
       "version_minor": 0
      },
      "text/plain": [
       "  0%|          | 0/165 [00:00<?, ?it/s]"
      ]
     },
     "metadata": {},
     "output_type": "display_data"
    },
    {
     "name": "stdout",
     "output_type": "stream",
     "text": [
      "E05/8  loss 1.189  val mIoU 0.153\n"
     ]
    },
    {
     "data": {
      "application/vnd.jupyter.widget-view+json": {
       "model_id": "a93698e025fe4af783024beeacef1006",
       "version_major": 2,
       "version_minor": 0
      },
      "text/plain": [
       "  0%|          | 0/165 [00:00<?, ?it/s]"
      ]
     },
     "metadata": {},
     "output_type": "display_data"
    },
    {
     "name": "stdout",
     "output_type": "stream",
     "text": [
      "E06/8  loss 1.083  val mIoU 0.159\n"
     ]
    },
    {
     "data": {
      "application/vnd.jupyter.widget-view+json": {
       "model_id": "c9e062481e05410e996a2bdcebfb98d9",
       "version_major": 2,
       "version_minor": 0
      },
      "text/plain": [
       "  0%|          | 0/165 [00:00<?, ?it/s]"
      ]
     },
     "metadata": {},
     "output_type": "display_data"
    },
    {
     "name": "stdout",
     "output_type": "stream",
     "text": [
      "E07/8  loss 1.024  val mIoU 0.170\n"
     ]
    },
    {
     "data": {
      "application/vnd.jupyter.widget-view+json": {
       "model_id": "9d07f73cad7a40098a86bace620df0ea",
       "version_major": 2,
       "version_minor": 0
      },
      "text/plain": [
       "  0%|          | 0/165 [00:00<?, ?it/s]"
      ]
     },
     "metadata": {},
     "output_type": "display_data"
    },
    {
     "name": "stdout",
     "output_type": "stream",
     "text": [
      "E08/8  loss 0.996  val mIoU 0.163\n",
      "UNet-R34         ➜ test mIoU 0.156\n"
     ]
    }
   ],
   "source": [
    "unet34 = smp.Unet('resnet34', encoder_weights='imagenet',\n",
    "                  classes=NUM_CLASSES, activation=None).to(DEVICE)\n",
    "fit_model(unet34, epochs=8, lr=1e-4, train_aug_pipe=train_aug)\n",
    "miou_unet34 = evaluate(unet34, 'UNet-R34')"
   ]
  },
  {
   "cell_type": "markdown",
   "metadata": {},
   "source": [
    "- Loss стабильно падает, мIoU растёт до ~0.17 к 7-й эпохе, затем немного снижается → лёгкое переобучение.  \n",
    "- Тестовая mIoU (0.156) задаёт отправную точку для сравнения с улучшенными и трансформерными моделями.  "
   ]
  },
  {
   "cell_type": "markdown",
   "metadata": {
    "id": "-k9sL56lL6vY"
   },
   "source": [
    "### Трансформер"
   ]
  },
  {
   "cell_type": "markdown",
   "metadata": {},
   "source": [
    "- **Архитектура**: SegFormer с энкодером MiT-B0 (легковесный трансформер), выход без активации.  \n",
    "- **Обучение**: 8 эпох, lr=3e-4, базовая аугментация (`train_aug`), батч-накопление = 1"
   ]
  },
  {
   "cell_type": "code",
   "execution_count": 8,
   "metadata": {
    "colab": {
     "base_uri": "https://localhost:8080/",
     "height": 405,
     "referenced_widgets": [
      "9929204a15db42008fbe666f28fe3ce8",
      "464f61436e8b4580aca475ac5e244ed8",
      "1eafac69ec4046b38ac10e8ca42396e1",
      "dd64234b978d4df482af34e09846415e",
      "b4330442bc74459aae92d9cd2721ccf8",
      "95ff3ab945764e9ab95dad2e50e8f08a",
      "09f58aa03e1c4221abb38136241a32cf",
      "edfef9b0287b48969fcf41b8bbea3a9c",
      "17370a1518234917822b2d389ad66d95",
      "98eba4b2a4f041408ec8e73ae3f0973b",
      "9bbd22b72943462492915b6867b76b29",
      "eaa9383fed7c4484b3b05cff7fb26a43",
      "55eb3649c22a4e849f25fd8eb819d631",
      "3dad61c4e76a4280a8a4fda97ccb3824",
      "e01847732ec74547b7f3a67dbf59ecc0",
      "805f83c536e943d6854da66e82a6b827",
      "5b71038278aa4cbeabfd34e0a7dd02d2",
      "27b30e2447a644359405ffa2d807e1c0",
      "37b863ac442f4421bc0f033fe8be45fa",
      "1c7d3b894f844fdb8ea8dba423e2b178",
      "1c6079d7634344d399c6e0dbcf3f9991",
      "0acc6710c5f54a94ab520336592f749f",
      "8cc983a835d548c3ad2b4bd9216a3826",
      "0097dce9c2ad42c9933cc219f751c0ec",
      "e8ade02cdb974ac2b474d10865eb6c83",
      "f9a24aec2ae14eb983eb797232bb6aec",
      "7bcf274594b646b0b078f3a3d18a7117",
      "cc8f46f4ea094965aa94216445ff9ceb",
      "4a745235ced046f78f182a29e7dcf4c8",
      "f4f5adbebe6146e39e30bea723a599f4",
      "470fd67b833c426fb86bc9bf8ff58632",
      "f508022c559f458fa98be0c458b97b72",
      "2be7a2d35d68427ea3a48eb0304ca06e",
      "93e4d4f111ae45af93537d6f2864befd",
      "a8e32b9f2ca24c1780204c69ed537969",
      "e348961977ef4ff9be815af09cfc0fd1",
      "764ac58293bb4ad3a62a4d76f46c7230",
      "b49f4bb96cf1453b8785b3b42a93ca1a",
      "2f75fd6728854d068dc357a4f755c54b",
      "3d15d8185d7e496b9d5861b8eadf29e6",
      "6a028a0ebc1547c3b120d32d0fdf665c",
      "f7ee730896014f8492525809ec3a83fc",
      "821ca0587dcc4c17936da4b8c969c77b",
      "1abd59d64a4048b481cbdca591a20ecd",
      "c478e0b8fa07421096ec7abefa36ada5",
      "6de476f67fdf433f93f5926a50180335",
      "b7dd57551dc4417094a899dc7681ff8a",
      "1cd91db897ad4abaadcefc6ebe4f0357",
      "7b4c625354744370889941ca147992ae",
      "1603292196ad4e328af3cf826608122b",
      "687821f18b594797b497a10da6237562",
      "4c88222baf54421e803e039b0b8248e1",
      "56bd1da1646843748b3fa4f9c8b0ac7a",
      "eacd06550cd54f50a70a397cec282693",
      "9f24d87123ea4bbf82007863753960c7",
      "bea95bc580d64f50a4e56e79e6969ea6",
      "684a25dd6c5141b88fe1a5f3ed668b20",
      "ced2a0c883f64ecd971565efca841a1d",
      "71e450008a4b4303b1149436a2efa373",
      "2b5519caff0f42b8822ea066732ed99a",
      "65f9cc552c79404f85d60019d9c40d32",
      "705ee567e0c94909b9974f76808b8e13",
      "0c86a2d8201a4250bae36325ff488d6c",
      "cfb0f892527c416cafde4090d5e94906",
      "c94740ceb85c46808e46744d127c83ab",
      "765e0e9a1b2d446b99eb27779d96853a",
      "7266168cd0e74b249e6b090e8323a498",
      "212a8636b25e4d8d9f2e59bf16e45c3d",
      "2d07d34c709e46d496f96570c2e49dbe",
      "83127aaeb5e44451938852260fa14806",
      "ad099e64c4e34c43886fc2ea23189e3b",
      "dbe44ea147b74a8dba66f57a6af8983a",
      "04e1c16d830e4ed2afd07655fb4e9107",
      "bba04d5b2fcb4d88aa024807197f8857",
      "c06b62bece1647599d2d4e2bba2a4250",
      "914aa7c395bd4c9c9719895bfb67455d",
      "fbe897bdaa4b41ca8428386530671018",
      "2c3a8f4bcd2c45b4bfbd0c5b435f7680",
      "3d5240333ee144f2b674d1eac2351b8a",
      "def1fae5ebf24b77b82a0ac221426c5b",
      "c9c5ab16d95d47eb8f391c4bc00eebda",
      "98a519bf73124010a4214d468a4fcea3",
      "7c0b2f0dca224dd28a250a997c4b2dcd",
      "4f9ea0104d53416881df534bdde581a7",
      "cc60d37c96b9493f9e63329a1c013b33",
      "43884b222eb24533b6bb8be323c98026",
      "7c0d6daf34fa4e8f9176e724b676a192",
      "a56ca048c1ec48dd9076d54009f9bf72",
      "9a9b904921a547d0b29bac3fac227426",
      "ac69316f840a4fcdaf8ee3fcb9f9da5f",
      "9236b52acea14cbe89af00d05fb3545f",
      "87eb8b7644d14746a1dee118865baf2c",
      "bd2209fda8404e0db8d3df3cbdfc5d97",
      "0347de3b8ee2447daceffed47de85777",
      "eb5fded0af8b40a388d987bfef96093d",
      "eb66e559cc4348dc83416d38e37eb839",
      "bab697dab9d346a1b043c004595b8e31",
      "c7e72b339e6a4a9e906485cc393899f5",
      "51eb0ed730274c8ea8e568220b895bad",
      "c8c83ef644044d469307ffda9f75dbff",
      "8c7229d600ef42ec8703ebbbb9289b42",
      "37ae0627609c4001b3d8733d24be5a46",
      "1180facf5da74b51bba5b018e73abec5",
      "fd8c461daa4c43f48e60526c08a3b66b",
      "a8f20aebf27b4e6f9b95d12d60277b93",
      "1ed9d4c8fd8b46a98e28338263458bee",
      "4218ac8310c1401da99bf6c9327cc2c2",
      "2fe3ecc1588a4a9db67ffcef61ba4a89",
      "c295586ab4e0432e8a05c4dc230e0778",
      "bee99bd31d2949609c7eae9177e200a6"
     ]
    },
    "id": "gb_4n-41zfY8",
    "outputId": "2ec51759-1779-4bb7-d320-a4aafe2ab490"
   },
   "outputs": [
    {
     "data": {
      "application/vnd.jupyter.widget-view+json": {
       "model_id": "9929204a15db42008fbe666f28fe3ce8",
       "version_major": 2,
       "version_minor": 0
      },
      "text/plain": [
       "config.json:   0%|          | 0.00/135 [00:00<?, ?B/s]"
      ]
     },
     "metadata": {},
     "output_type": "display_data"
    },
    {
     "data": {
      "application/vnd.jupyter.widget-view+json": {
       "model_id": "eaa9383fed7c4484b3b05cff7fb26a43",
       "version_major": 2,
       "version_minor": 0
      },
      "text/plain": [
       "model.safetensors:   0%|          | 0.00/14.3M [00:00<?, ?B/s]"
      ]
     },
     "metadata": {},
     "output_type": "display_data"
    },
    {
     "data": {
      "application/vnd.jupyter.widget-view+json": {
       "model_id": "8cc983a835d548c3ad2b4bd9216a3826",
       "version_major": 2,
       "version_minor": 0
      },
      "text/plain": [
       "  0%|          | 0/165 [00:00<?, ?it/s]"
      ]
     },
     "metadata": {},
     "output_type": "display_data"
    },
    {
     "name": "stderr",
     "output_type": "stream",
     "text": [
      "/usr/local/lib/python3.11/dist-packages/segmentation_models_pytorch/encoders/mix_transformer.py:153: UserWarning: Deterministic behavior was enabled with either `torch.use_deterministic_algorithms(True)` or `at::Context::setDeterministicAlgorithms(true)`, but this operation is not deterministic because it uses CuBLAS and you have CUDA >= 10.2. To enable deterministic behavior in this case, you must set an environment variable before running your PyTorch application: CUBLAS_WORKSPACE_CONFIG=:4096:8 or CUBLAS_WORKSPACE_CONFIG=:16:8. For more information, go to https://docs.nvidia.com/cuda/cublas/index.html#results-reproducibility (Triggered internally at /pytorch/aten/src/ATen/Context.cpp:217.)\n",
      "  attn = (q @ k.transpose(-2, -1)) * self.scale\n",
      "/usr/local/lib/python3.11/dist-packages/segmentation_models_pytorch/encoders/mix_transformer.py:157: UserWarning: Deterministic behavior was enabled with either `torch.use_deterministic_algorithms(True)` or `at::Context::setDeterministicAlgorithms(true)`, but this operation is not deterministic because it uses CuBLAS and you have CUDA >= 10.2. To enable deterministic behavior in this case, you must set an environment variable before running your PyTorch application: CUBLAS_WORKSPACE_CONFIG=:4096:8 or CUBLAS_WORKSPACE_CONFIG=:16:8. For more information, go to https://docs.nvidia.com/cuda/cublas/index.html#results-reproducibility (Triggered internally at /pytorch/aten/src/ATen/Context.cpp:217.)\n",
      "  x = (attn @ v).transpose(1, 2).reshape(batch_size, N, C)\n",
      "/usr/local/lib/python3.11/dist-packages/torch/nn/modules/linear.py:125: UserWarning: Deterministic behavior was enabled with either `torch.use_deterministic_algorithms(True)` or `at::Context::setDeterministicAlgorithms(true)`, but this operation is not deterministic because it uses CuBLAS and you have CUDA >= 10.2. To enable deterministic behavior in this case, you must set an environment variable before running your PyTorch application: CUBLAS_WORKSPACE_CONFIG=:4096:8 or CUBLAS_WORKSPACE_CONFIG=:16:8. For more information, go to https://docs.nvidia.com/cuda/cublas/index.html#results-reproducibility (Triggered internally at /pytorch/aten/src/ATen/Context.cpp:217.)\n",
      "  return F.linear(input, self.weight, self.bias)\n",
      "/usr/local/lib/python3.11/dist-packages/torch/autograd/graph.py:823: UserWarning: Deterministic behavior was enabled with either `torch.use_deterministic_algorithms(True)` or `at::Context::setDeterministicAlgorithms(true)`, but this operation is not deterministic because it uses CuBLAS and you have CUDA >= 10.2. To enable deterministic behavior in this case, you must set an environment variable before running your PyTorch application: CUBLAS_WORKSPACE_CONFIG=:4096:8 or CUBLAS_WORKSPACE_CONFIG=:16:8. For more information, go to https://docs.nvidia.com/cuda/cublas/index.html#results-reproducibility (Triggered internally at /pytorch/aten/src/ATen/Context.cpp:217.)\n",
      "  return Variable._execution_engine.run_backward(  # Calls into the C++ engine to run the backward pass\n"
     ]
    },
    {
     "name": "stdout",
     "output_type": "stream",
     "text": [
      "E01/8  loss 1.533  val mIoU 0.175\n"
     ]
    },
    {
     "data": {
      "application/vnd.jupyter.widget-view+json": {
       "model_id": "93e4d4f111ae45af93537d6f2864befd",
       "version_major": 2,
       "version_minor": 0
      },
      "text/plain": [
       "  0%|          | 0/165 [00:00<?, ?it/s]"
      ]
     },
     "metadata": {},
     "output_type": "display_data"
    },
    {
     "name": "stdout",
     "output_type": "stream",
     "text": [
      "E02/8  loss 0.788  val mIoU 0.266\n"
     ]
    },
    {
     "data": {
      "application/vnd.jupyter.widget-view+json": {
       "model_id": "c478e0b8fa07421096ec7abefa36ada5",
       "version_major": 2,
       "version_minor": 0
      },
      "text/plain": [
       "  0%|          | 0/165 [00:00<?, ?it/s]"
      ]
     },
     "metadata": {},
     "output_type": "display_data"
    },
    {
     "name": "stdout",
     "output_type": "stream",
     "text": [
      "E03/8  loss 0.596  val mIoU 0.314\n"
     ]
    },
    {
     "data": {
      "application/vnd.jupyter.widget-view+json": {
       "model_id": "bea95bc580d64f50a4e56e79e6969ea6",
       "version_major": 2,
       "version_minor": 0
      },
      "text/plain": [
       "  0%|          | 0/165 [00:00<?, ?it/s]"
      ]
     },
     "metadata": {},
     "output_type": "display_data"
    },
    {
     "name": "stdout",
     "output_type": "stream",
     "text": [
      "E04/8  loss 0.440  val mIoU 0.372\n"
     ]
    },
    {
     "data": {
      "application/vnd.jupyter.widget-view+json": {
       "model_id": "7266168cd0e74b249e6b090e8323a498",
       "version_major": 2,
       "version_minor": 0
      },
      "text/plain": [
       "  0%|          | 0/165 [00:00<?, ?it/s]"
      ]
     },
     "metadata": {},
     "output_type": "display_data"
    },
    {
     "name": "stdout",
     "output_type": "stream",
     "text": [
      "E05/8  loss 0.365  val mIoU 0.398\n"
     ]
    },
    {
     "data": {
      "application/vnd.jupyter.widget-view+json": {
       "model_id": "2c3a8f4bcd2c45b4bfbd0c5b435f7680",
       "version_major": 2,
       "version_minor": 0
      },
      "text/plain": [
       "  0%|          | 0/165 [00:00<?, ?it/s]"
      ]
     },
     "metadata": {},
     "output_type": "display_data"
    },
    {
     "name": "stdout",
     "output_type": "stream",
     "text": [
      "E06/8  loss 0.306  val mIoU 0.414\n"
     ]
    },
    {
     "data": {
      "application/vnd.jupyter.widget-view+json": {
       "model_id": "9a9b904921a547d0b29bac3fac227426",
       "version_major": 2,
       "version_minor": 0
      },
      "text/plain": [
       "  0%|          | 0/165 [00:00<?, ?it/s]"
      ]
     },
     "metadata": {},
     "output_type": "display_data"
    },
    {
     "name": "stdout",
     "output_type": "stream",
     "text": [
      "E07/8  loss 0.271  val mIoU 0.417\n"
     ]
    },
    {
     "data": {
      "application/vnd.jupyter.widget-view+json": {
       "model_id": "c8c83ef644044d469307ffda9f75dbff",
       "version_major": 2,
       "version_minor": 0
      },
      "text/plain": [
       "  0%|          | 0/165 [00:00<?, ?it/s]"
      ]
     },
     "metadata": {},
     "output_type": "display_data"
    },
    {
     "name": "stdout",
     "output_type": "stream",
     "text": [
      "E08/8  loss 0.263  val mIoU 0.421\n",
      "SegFormer-B0     ➜ test mIoU 0.407\n"
     ]
    }
   ],
   "source": [
    "segformer = smp.Segformer('mit_b0', encoder_weights='imagenet',\n",
    "                          classes=NUM_CLASSES, activation=None).to(DEVICE)\n",
    "fit_model(segformer, epochs=8, lr=3e-4, train_aug_pipe=train_aug)\n",
    "miou_segformer = evaluate(segformer, 'SegFormer-B0')"
   ]
  },
  {
   "cell_type": "markdown",
   "metadata": {},
   "source": [
    "- Модель быстро учится: mIoU растёт особенно активно в первые 6 эпох.  \n",
    "- Дальнейшее улучшение замедляется → стоило бы остановиться примерно на 7 эпохе.  \n",
    "- Тестовый mIoU (0.407) в ~2.6× выше, чем у UNet-R34 (0.156) — сильное преимущество трансформерного бэкбона для сегментации."
   ]
  },
  {
   "cell_type": "markdown",
   "metadata": {
    "id": "16KrZR-_L_-7"
   },
   "source": [
    "## Крутые baseline"
   ]
  },
  {
   "cell_type": "markdown",
   "metadata": {
    "id": "8ePxjpH4MC9F"
   },
   "source": [
    "### U-Net ultra super +"
   ]
  },
  {
   "cell_type": "markdown",
   "metadata": {},
   "source": [
    "- **Архитектура**: UNet ++ с энкодером EfficientNet-B3 (ImageNet), выход без активации.  \n",
    "- **Обучение**: 10 эпох, lr=1e-4, используется «strong_aug» (агрессивные аугментации)."
   ]
  },
  {
   "cell_type": "code",
   "execution_count": 9,
   "metadata": {
    "colab": {
     "base_uri": "https://localhost:8080/",
     "height": 277,
     "referenced_widgets": [
      "9493fc99d88a41eaa4353a1c260dd722",
      "f8f16ed60c004773afb1ad395b5c6569",
      "9c19f8cb424e4f1580d951a087a147a0",
      "b6c63a82c7e547c2b76aac38b75508cc",
      "3e8ad3ccac8e42dfa397c64e20e1d7bc",
      "08d2363ed5174036ad5c4045cd9d830e",
      "35dad72618b445a2a345217798be7132",
      "56d496b7d0e841459e74563194709ea9",
      "14074aadbd9945c9b10cb86e611d6da0",
      "9c2147fe06d54bbb9d330982c6ace0ec",
      "13a2372fe064488c9c3d3359c95059c8",
      "e143c412d7354b2daf60f78a7e94f6d7",
      "a7bf5be6f7dc4e539bde8ffbfad4ac13",
      "32b33c2f05b1495cb9bf91a378bca4e5",
      "87ce45423c2149e18d18238d0868975f",
      "afdcdc9459464d33a297699a3e1dadde",
      "5583a74635f744a7bdea569830cb6c78",
      "525f8338a3d34c59b1b01112881b373d",
      "abd1ae4336714b7f8c8d967bd779c0c0",
      "200727c2efc84ebe8d069950c3500681",
      "ca67626ba26e40439795aaf829c37a0a",
      "eeb4d008b32f415aae9410a1149a518a",
      "2089b91fe2024f2c8759bfe88e71177a",
      "a6938582602140ea92560f9b9c8b56a2",
      "0bf52db10e9e42688c7e63b67049146f",
      "74811fe694c942d498f826294437a25d",
      "2f897d24037e4c9eb797fd22f3473a26",
      "79b4c190a582460bba1767d9e69415c6",
      "9db8389e408d4d509341921dc7f283d7",
      "c43e378aa5ac4d1c9a54f28b60ebf12e",
      "095ec92099434787a38898c93aec492c",
      "1205cbb2ef0e4d39b9a7598eac1d4fba",
      "69587eb305834daabbc556543aeddb24",
      "31f09fb710b4446999ff12c1e235a31c",
      "3fcb01d07cc6498884de6d0da1df94fa",
      "7767e483f16d49e98cbf16f2d76890a0",
      "a6e117a0e4c94decb4803feb3850e5ca",
      "9053ef8f04c24a2a9718cc044740f0b7",
      "3193e566ebaf4c67ae2584ea4f9c2923",
      "4411268f49b745d8b46a734a202241bd",
      "037c1a4ae44042cdb9c2bea8a4bf9446",
      "15e96711246149249c4d6f1124dd9d15",
      "bb1e00e527564568b68f656b62e850f6",
      "fdd5fcf2b1b94801b76b1b891268f291",
      "bfa7248ce5fc48128962c025c47bcf4c",
      "ece5ee2f74e64b0baed14dc3dc5c97a1",
      "f8444e949b094b12adb504e40475b379",
      "d24bd4184f31437d9cb7030b53b56be9",
      "d3130d3e6cea468dbb7d7c0bb91c6e5e",
      "ac2433b17ca14c6497739895bd6561f5",
      "89f2d63384ee439d9313eae0a3bc11b4",
      "5a784846e15c4febb179b89d4e115659",
      "5e147f46deaa43c2a965b0b7c2f67dfa",
      "315640d24a0b4829a2cd5f4595b416fa",
      "79d91c593f204ceb9ab1ef452798cebc",
      "1a6d247652ce465ea3245ad87c05faed",
      "f7c7c0ecb8ad42ee82ffb76678121438",
      "f274afd21876418f9f37b78fe7beaf9b",
      "3b895443dd87402db327becaaf1ed547",
      "34d1fab85e744a3084c6cd5ba98b37a1",
      "2e9482db40fd44f0a42ab978624fd0fb",
      "6de7022a49dd4a89b78913d422f75b0c",
      "c8e49aae0aa9449ba3a3e2f3ade6e276",
      "a0967bd7e1114d54980772e4c34d6011",
      "7e48d568b37c4085a0606784ff920601",
      "0a4663ced47b46f1a9cbf0ac3300b877",
      "56a5baad54ea4faaadddfed7a93afe26",
      "f3d709453a3a434ab68af878b6eae5bb",
      "8aff725a54054354a8b3ae70a23263a1",
      "6c36cb47586b4fada20ddc67419724f3",
      "37e4899f94ba4241b8bfd7a7d28ffd87",
      "912e379fd46b457ea13614939816fdf4",
      "df6f89441f2a4da0b4d64c1b0dfcbd8a",
      "2a815cb0578d43fa966fc8eaefebfcbb",
      "4a2a284c544b43c7a604e0fbb04833b6",
      "dc215528879d4d9498ab5e69eded4e19",
      "4204ae7f3dca4fad8d7ce74acc163e63",
      "447c269f961a4da085525f1d73d4e7e9",
      "f18f341d7a094288babb76a6fe42b587",
      "e77482ea7ec94c1cbd6efb5395718ba1",
      "6a6d643d9de34bc4a9e6cf8844a7a0c5",
      "12bde720345a4ec184fa65b27eac1892",
      "494c31e6b2544520b3aed7a6212d9261",
      "97efd77b58d14d76981f49ae7b47a5a9",
      "6b54efce27e243ad8c772737651dfd85",
      "368e6781003e4cdf80ac5897e768e540",
      "3652534e86c646968eac1b541e2e53cd",
      "850a656f53234f21b725c52db1d5a3b7",
      "e15b6b4a9e8345258014de98af81a73a",
      "5ebb9f3feb7f4f6698c84266ca972b7f",
      "6d84c60ac2f1488ba696c28b2397a675",
      "4541fdb3e9c24f328bdb9eaa4738e44c",
      "62cd0214cf9548d1ab31e360adb461ef",
      "d91f65d0c1814e398f03b9d4352257b7",
      "cfc6f5649f1849e2bdff01b9bfbda69b",
      "57ccddc3bae64676b5729d7194ec92c6",
      "eb66cbedf9cc45139fd62e001089876c",
      "24f4a1431f274d5eb878bc02b4bb4402",
      "add3e1aad1974f9c9ee435539100e327",
      "bab6a12df37544968e2a98fc2f9add8f",
      "9f778870b34648ff868a856e6e883ef6",
      "bca48f8b561a4b95b8fe2fbd79316265",
      "91ddd1a9bbb94e7c86a8cfee6773b579",
      "7d12efe3729a426ba396a389af7c392f",
      "3c3d76f484624dd694c1056381efef04",
      "c8f03dc737914511aca183e0c708ede8",
      "374e5c1f99234a3f996443be5b182d28",
      "8ed7229a02524201b363c28967c8ff11",
      "8ddcd01c5e5b419d98aeb9e59281b84b",
      "6e9b0263132847e8a1c5acbd5fa65f11",
      "8582c9d9caaf431b8215ab47881e8f2f",
      "9fc3068751144a119547977ca70274dc",
      "f1ee1836332a486bb59abdab4f9ea0fb",
      "9f0231b000344007a3dbae287132af51",
      "becf612c8aab4cc3ad9c8d9eb49ad505",
      "abf184de18d44232bc11639afc469230",
      "3073ed25ebf04ee1ac3296ee4d75341e",
      "83b972fd45994582b4c94fd3ffaada6e",
      "c25b160b90ef4658b3aab23c6cfee9e3",
      "c73198ca77da46189bf3ded2a389c462",
      "173be44d19c54cfd98e71de9cabec18c",
      "bc32559146774c1bbb99e67a56a47f9b",
      "373352622bb84c16b490d4e561e02b7d",
      "67ea3855e5f34e658c1fc8c2b68f6bce",
      "f71ecff9869c43cbacdd5611a52fc1dd",
      "8f9a9cc49d2a49cb94055cc3b00b5675",
      "02239dc11c834a8a8e82da1936041cec",
      "0ad6cf3c01a2465683f40a03b639ccf8",
      "39984494d43445368d8de931fcc4768c",
      "1ada9f0dad6f404a95a9c219da8816d6",
      "1e069146029142aeb20e4c6cd59722f1",
      "61554816daf54255b6a45e7b2c23f156"
     ]
    },
    "id": "cb_nEFlqzouG",
    "outputId": "7b9e304b-cbc9-4fd4-a340-d54bc59eb9ce"
   },
   "outputs": [
    {
     "data": {
      "application/vnd.jupyter.widget-view+json": {
       "model_id": "9493fc99d88a41eaa4353a1c260dd722",
       "version_major": 2,
       "version_minor": 0
      },
      "text/plain": [
       "config.json:   0%|          | 0.00/106 [00:00<?, ?B/s]"
      ]
     },
     "metadata": {},
     "output_type": "display_data"
    },
    {
     "data": {
      "application/vnd.jupyter.widget-view+json": {
       "model_id": "e143c412d7354b2daf60f78a7e94f6d7",
       "version_major": 2,
       "version_minor": 0
      },
      "text/plain": [
       "model.safetensors:   0%|          | 0.00/49.3M [00:00<?, ?B/s]"
      ]
     },
     "metadata": {},
     "output_type": "display_data"
    },
    {
     "data": {
      "application/vnd.jupyter.widget-view+json": {
       "model_id": "2089b91fe2024f2c8759bfe88e71177a",
       "version_major": 2,
       "version_minor": 0
      },
      "text/plain": [
       "  0%|          | 0/165 [00:00<?, ?it/s]"
      ]
     },
     "metadata": {},
     "output_type": "display_data"
    },
    {
     "name": "stdout",
     "output_type": "stream",
     "text": [
      "E01/10  loss 2.780  val mIoU 0.047\n"
     ]
    },
    {
     "data": {
      "application/vnd.jupyter.widget-view+json": {
       "model_id": "31f09fb710b4446999ff12c1e235a31c",
       "version_major": 2,
       "version_minor": 0
      },
      "text/plain": [
       "  0%|          | 0/165 [00:00<?, ?it/s]"
      ]
     },
     "metadata": {},
     "output_type": "display_data"
    },
    {
     "name": "stdout",
     "output_type": "stream",
     "text": [
      "E02/10  loss 1.989  val mIoU 0.054\n"
     ]
    },
    {
     "data": {
      "application/vnd.jupyter.widget-view+json": {
       "model_id": "bfa7248ce5fc48128962c025c47bcf4c",
       "version_major": 2,
       "version_minor": 0
      },
      "text/plain": [
       "  0%|          | 0/165 [00:00<?, ?it/s]"
      ]
     },
     "metadata": {},
     "output_type": "display_data"
    },
    {
     "name": "stdout",
     "output_type": "stream",
     "text": [
      "E03/10  loss 1.534  val mIoU 0.055\n"
     ]
    },
    {
     "data": {
      "application/vnd.jupyter.widget-view+json": {
       "model_id": "1a6d247652ce465ea3245ad87c05faed",
       "version_major": 2,
       "version_minor": 0
      },
      "text/plain": [
       "  0%|          | 0/165 [00:00<?, ?it/s]"
      ]
     },
     "metadata": {},
     "output_type": "display_data"
    },
    {
     "name": "stdout",
     "output_type": "stream",
     "text": [
      "E04/10  loss 1.350  val mIoU 0.051\n"
     ]
    },
    {
     "data": {
      "application/vnd.jupyter.widget-view+json": {
       "model_id": "56a5baad54ea4faaadddfed7a93afe26",
       "version_major": 2,
       "version_minor": 0
      },
      "text/plain": [
       "  0%|          | 0/165 [00:00<?, ?it/s]"
      ]
     },
     "metadata": {},
     "output_type": "display_data"
    },
    {
     "name": "stdout",
     "output_type": "stream",
     "text": [
      "E05/10  loss 1.280  val mIoU 0.052\n"
     ]
    },
    {
     "data": {
      "application/vnd.jupyter.widget-view+json": {
       "model_id": "447c269f961a4da085525f1d73d4e7e9",
       "version_major": 2,
       "version_minor": 0
      },
      "text/plain": [
       "  0%|          | 0/165 [00:00<?, ?it/s]"
      ]
     },
     "metadata": {},
     "output_type": "display_data"
    },
    {
     "name": "stdout",
     "output_type": "stream",
     "text": [
      "E06/10  loss 1.212  val mIoU 0.053\n"
     ]
    },
    {
     "data": {
      "application/vnd.jupyter.widget-view+json": {
       "model_id": "e15b6b4a9e8345258014de98af81a73a",
       "version_major": 2,
       "version_minor": 0
      },
      "text/plain": [
       "  0%|          | 0/165 [00:00<?, ?it/s]"
      ]
     },
     "metadata": {},
     "output_type": "display_data"
    },
    {
     "name": "stdout",
     "output_type": "stream",
     "text": [
      "E07/10  loss 1.185  val mIoU 0.054\n"
     ]
    },
    {
     "data": {
      "application/vnd.jupyter.widget-view+json": {
       "model_id": "bab6a12df37544968e2a98fc2f9add8f",
       "version_major": 2,
       "version_minor": 0
      },
      "text/plain": [
       "  0%|          | 0/165 [00:00<?, ?it/s]"
      ]
     },
     "metadata": {},
     "output_type": "display_data"
    },
    {
     "name": "stdout",
     "output_type": "stream",
     "text": [
      "E08/10  loss 1.143  val mIoU 0.052\n"
     ]
    },
    {
     "data": {
      "application/vnd.jupyter.widget-view+json": {
       "model_id": "8582c9d9caaf431b8215ab47881e8f2f",
       "version_major": 2,
       "version_minor": 0
      },
      "text/plain": [
       "  0%|          | 0/165 [00:00<?, ?it/s]"
      ]
     },
     "metadata": {},
     "output_type": "display_data"
    },
    {
     "name": "stdout",
     "output_type": "stream",
     "text": [
      "E09/10  loss 1.149  val mIoU 0.053\n"
     ]
    },
    {
     "data": {
      "application/vnd.jupyter.widget-view+json": {
       "model_id": "bc32559146774c1bbb99e67a56a47f9b",
       "version_major": 2,
       "version_minor": 0
      },
      "text/plain": [
       "  0%|          | 0/165 [00:00<?, ?it/s]"
      ]
     },
     "metadata": {},
     "output_type": "display_data"
    },
    {
     "name": "stdout",
     "output_type": "stream",
     "text": [
      "E10/10  loss 1.155  val mIoU 0.053\n",
      "UNet++-B3        ➜ test mIoU 0.059\n"
     ]
    }
   ],
   "source": [
    "unetpp = smp.UnetPlusPlus('efficientnet-b3', encoder_weights='imagenet',\n",
    "                          classes=NUM_CLASSES, activation=None).to(DEVICE)\n",
    "fit_model(unetpp, epochs=10, lr=1e-4, train_aug_pipe=strong_aug)\n",
    "miou_unetpp = evaluate(unetpp, 'UNet++-B3')"
   ]
  },
  {
   "cell_type": "markdown",
   "metadata": {},
   "source": [
    "- Несмотря на снижение loss, mIoU застрял около 0.05 → модель учится «вхолостую».  \n",
    "- Агрессивные преобразования, вероятно, делают задачу слишком сложной.  \n",
    "- Требуются более щадящие аугментации или настройка гиперпараметров, чтобы извлечь пользу из сильной модели. "
   ]
  },
  {
   "cell_type": "markdown",
   "metadata": {
    "id": "JjKNtubmMHyR"
   },
   "source": [
    "### Трансформер, но как автобот"
   ]
  },
  {
   "cell_type": "markdown",
   "metadata": {},
   "source": [
    "- **Архитектура**: DeepLabV3+ с энкодером `timm-mobilenetv3_large_100` (ImageNet), без активации на выходе.  \n",
    "- **Обучение**: 12 эпох, lr = 5e-4, используется «strong_aug» (агрессивные аугментации)."
   ]
  },
  {
   "cell_type": "code",
   "execution_count": 10,
   "metadata": {
    "colab": {
     "base_uri": "https://localhost:8080/",
     "height": 355,
     "referenced_widgets": [
      "5685a086856a4047a678e430962f6b2b",
      "3409a3a168f0411383a922032effca79",
      "3fb8adef43334ca8ba7a308c961bb06f",
      "06df4e3f0a5f4da7ad5756ffb4c6c688",
      "f4a485c430eb46b7b5058e973aa175b6",
      "1c4b8ca18680435f91c397b27a212196",
      "28bd55ae92204c8593380c97049ffef7",
      "f01baec7d0fc44e58846eb6c79adc777",
      "dee8f7963d3f4629a6a04f4a38910ee8",
      "b5cacc3170134081bbe825081433d8ac",
      "c760b49a033f4eb78e10af5c5e5ab77b",
      "bfccc349693942638f12dba609ccef0d",
      "c5cfad3ab5394183b28d274fc8a7297a",
      "b13f8f08aba04551817f067d802ddede",
      "6390f79b461f4b79bda10c5224365dbe",
      "edc29fb53257411786c7a1305dfc2dba",
      "734fb8cca7a847af8484c9f5e690f607",
      "6c11a6f1415c43b99b90f0a0877d1f47",
      "d6a7b547f95d459eb517434a7cb76c46",
      "ba33122dc9344e29888647c6666dcfee",
      "d23a4a240757438aa91345920d5695da",
      "4027d43b947140eaaafd5a8d3ecdc803",
      "977272a387c64c12b78cabbee0dc800d",
      "20b464cd9358497985fd10a735f8950f",
      "85ba199f80be4004aee895f49e214839",
      "2d2b4f3cce1f4747adbc7ca0ba81f44e",
      "23482d60b71f4897a012e0fa123e3d93",
      "82afd5effca746d4b29e4b420ea07baa",
      "d8fc07870f394bf0b42cd22f56f5c42b",
      "d91a59226cf047bf9e74c1fa23f26035",
      "d6d960bc27e94a8699f3d65febd17594",
      "7423f790a994405abbf99948abd6aca7",
      "2460e63f6ec24a64860cb034d9606424",
      "03a7f00c0e9244ada7105c19b723483d",
      "51b7b231bbfc4a618cd96bb7d5fc1937",
      "516df72a59d347f192a9466c7c86ad66",
      "4cc7ab46fd0a46aebc3b5f77b0be6fa6",
      "e8d121a2d7be4ba6bf9ae0042117b19d",
      "0450bab1e12c47af8cd12af11df11044",
      "d80575cb70c94ebe9ead165a846ca012",
      "fc577c9efaac47e9b5e9aada7cba7ac6",
      "699faea7881246cdb1afddb378324b0e",
      "780e37383b8f4855888fc95343a06cfe",
      "3e794b45236e41b6a9a7003e7a3380cc",
      "a281f54bfab14f7990864a4a54203ba1",
      "28dbddf27dc342c1b91ab860e35837ce",
      "34f1a947e9644a13b2d22f0cde7ff27a",
      "e2693b29071d44a69654f214178241ab",
      "ade888a263cd40a58b5aee3693f0705c",
      "88fefe0361284774bbf2ef9605c7c104",
      "a7fd318c462144cfa81168c460dba7a3",
      "d4138a5a5c6c432792976757fa3070f4",
      "5d763c679c1541be9990f761d8db046b",
      "f3b1050ffb0c4ae0ad9d0f7053fa1c9a",
      "97c08b023ff64281982d2b92b3b1f954",
      "2deb7286a1774a96b98b4047a97db163",
      "2b19b6410f374cc7b84b090a13bbb1b2",
      "fed261afb6c34ca7b2a2d82aa65e3515",
      "9c6a9f8a404845888e0776eb62d109a6",
      "6e06d2c8a9544d96b3d6d8e790bf0df3",
      "ab02db0ee6214161a6080cd9d4bdfbaa",
      "7213ae858314425cbc3e5404d651575f",
      "78248758899d4e6e9672ea91ec7ba26c",
      "5d531b4bac8d4afeb7144a48ad17b1ad",
      "3f309568db7a431a85f6d375241fa67b",
      "39fea11068d94ba28d382f4c5d8ffdfc",
      "e72ab8118f5d45d38bd73ccdb6c6c0b0",
      "71215b7a15f84c2da05e0f27004c47c8",
      "6829aa13e5f94c1b84590739909158b9",
      "ee66c31933074ca195aa8474c7ce5163",
      "183e536e4b624dd6828e82fa77df58a3",
      "e5a33545292048fdaab160ca1998f844",
      "4c4d1ec5dfe34121a573b0b249c4a62b",
      "59546d0db6974c31b7357ee65ead1710",
      "d66ceb4fa94e41db9d84695022289b3b",
      "6a20a50d7728400f8961f4e8209fc6ac",
      "6d7e0334a8b44eef8e571cd8f7cc824e",
      "cbce3c1938a24580a05d3108a722ecb6",
      "b354b155fd904d548d71feb07f520889",
      "331638fcebb043c281d3b737817285f0",
      "af986bcedc2e4467b3110eaf1e34063f",
      "a38156961f644fdcb8a98745ad3da0ac",
      "278117ed19c045159c0ff2453dfe9126",
      "dbe18ebcb5ff41e09a128e8ec4d64c0a",
      "4173573b5a9640ab8d0c3227b248c774",
      "95b777597b1947b1a2c70a28d335060c",
      "1977dd5dd0c9466286f0ade73186e7bd",
      "6b4e7682d02d41798dfbc5fb8f651d9c",
      "95637af6148149a388ee9ef0dce5e5f9",
      "a5233f57df844dd283dccd1e56f4021c",
      "9e98706d432b406d95679ee890999608",
      "9dfdb2fce02f4d709c3c650575cb719f",
      "595e8865bceb451284b1f46d5e566d41",
      "8a6d8ff3c5654c0c94b408c7700d4a12",
      "6cc361d2be50412eb6d8cd3abd023d62",
      "1a6afaa76d2f44758235674b34978807",
      "66050297739f48aebfa12b7b86729b58",
      "bf8b0b6cc8754141b04480ba2b779987",
      "40bf49b8b41a474899529446d3153f18",
      "bf08553f9ad14e95a133c7a3e3be48f4",
      "b1d9e075ea6c49e881c3376b2f174872",
      "59b57530cfe548fbb346d8e4da98c4ae",
      "87543e9f29294b02a79d0f47835bd02e",
      "98bcac25071840089fdc0f86474a2e48",
      "e0863d4e3e9a4232ab32691f5d29869a",
      "6249c147b2b14766b7a7fa8db71a0d10",
      "ea6d95d8612f434b8dca6d9add87cdaa",
      "a62c8dc3bcaa4e1b89e9e3236e1ab12e",
      "b936e158524a43b7a7c1e0f900387ecc",
      "42086f2463314a9582b2249cad1e92c8",
      "70f618eda22846e6b2e867cdb93ee6ac",
      "10b186fac20a420fb20071ae0cb5fabb",
      "53ffd1f3f80a4f408ff3ab6bcf0722c5",
      "d7cef0f56e254f3ba35d165f2bc42763",
      "176bd491fde4418985fa87a497a4d3c4",
      "04bac92257264dd8b7291bff0d2b8a89",
      "27ba61bc0d6b4745adc188af65e605a0",
      "e1a7dedf99bf409386eb604cea800597",
      "34fc0f2987c147cdaf736574485b7024",
      "a6e1f27107f64ad1b425050ae75f919a",
      "95d6fcef4b1b46818f6a964d0047ac0a",
      "dde4624c3a0e4862904a17211a20700c",
      "51b000dadd0e4c80a04ec55ff2afccf9",
      "cb9bcc1544dc4d838738c700c300b6c7",
      "a91a8bd8435c44ca9c02e6938c812489",
      "2b9ceb33e7bc4b29bd34f9d868c5dada",
      "7dda39dc551f4b52bd5e2c364441033d",
      "35d1e13bd87741a98cdf004129b881bb",
      "b02d2c0702914f4c8b4f84af8433b06b",
      "c04b9a5d93a2470d9aaef10669e0d5d0",
      "e3e7183afb254a748184c4b6ec1355e4",
      "35f9230ff2714f4c8163a754d0f364e8",
      "4a2b206543854916a52ff77faf83747e",
      "b3a2c0c58f334b5990c2bc34bc295048",
      "c0f0f96437834ccba04b40d2062a5a51",
      "79a73416435340e3b47535d6f6d99a91",
      "53c097d45a644490a99cb47edfb59388",
      "58c9fda05d274351b0af0529c11f1eb5",
      "ad86cbd5a2c548679cd5681388f11902",
      "da48541e456b420e8195de7fb6047af6",
      "eea9baf3cb5b463990e70cc39a679e7f",
      "cf0efaf4dcc540b69b4eea7acb36c95d",
      "ba6aec4cffc64422aceedc3b75086f80"
     ]
    },
    "id": "5lvM9t6RzrTA",
    "outputId": "e59da74e-85f2-4a1a-ff92-3a2fda87b91c"
   },
   "outputs": [
    {
     "data": {
      "application/vnd.jupyter.widget-view+json": {
       "model_id": "5685a086856a4047a678e430962f6b2b",
       "version_major": 2,
       "version_minor": 0
      },
      "text/plain": [
       "model.safetensors:   0%|          | 0.00/22.1M [00:00<?, ?B/s]"
      ]
     },
     "metadata": {},
     "output_type": "display_data"
    },
    {
     "name": "stderr",
     "output_type": "stream",
     "text": [
      "WARNING:timm.models._builder:Unexpected keys (classifier.bias, classifier.weight, conv_head.bias, conv_head.weight) found while loading pretrained weights. This may be expected if model is being adapted.\n"
     ]
    },
    {
     "data": {
      "application/vnd.jupyter.widget-view+json": {
       "model_id": "bfccc349693942638f12dba609ccef0d",
       "version_major": 2,
       "version_minor": 0
      },
      "text/plain": [
       "  0%|          | 0/165 [00:00<?, ?it/s]"
      ]
     },
     "metadata": {},
     "output_type": "display_data"
    },
    {
     "name": "stderr",
     "output_type": "stream",
     "text": [
      "/usr/local/lib/python3.11/dist-packages/torch/nn/modules/conv.py:549: UserWarning: Deterministic behavior was enabled with either `torch.use_deterministic_algorithms(True)` or `at::Context::setDeterministicAlgorithms(true)`, but this operation is not deterministic because it uses CuBLAS and you have CUDA >= 10.2. To enable deterministic behavior in this case, you must set an environment variable before running your PyTorch application: CUBLAS_WORKSPACE_CONFIG=:4096:8 or CUBLAS_WORKSPACE_CONFIG=:16:8. For more information, go to https://docs.nvidia.com/cuda/cublas/index.html#results-reproducibility (Triggered internally at /pytorch/aten/src/ATen/Context.cpp:217.)\n",
      "  return F.conv2d(\n"
     ]
    },
    {
     "name": "stdout",
     "output_type": "stream",
     "text": [
      "E01/12  loss 1.286  val mIoU 0.266\n"
     ]
    },
    {
     "data": {
      "application/vnd.jupyter.widget-view+json": {
       "model_id": "977272a387c64c12b78cabbee0dc800d",
       "version_major": 2,
       "version_minor": 0
      },
      "text/plain": [
       "  0%|          | 0/165 [00:00<?, ?it/s]"
      ]
     },
     "metadata": {},
     "output_type": "display_data"
    },
    {
     "name": "stdout",
     "output_type": "stream",
     "text": [
      "E02/12  loss 0.752  val mIoU 0.314\n"
     ]
    },
    {
     "data": {
      "application/vnd.jupyter.widget-view+json": {
       "model_id": "03a7f00c0e9244ada7105c19b723483d",
       "version_major": 2,
       "version_minor": 0
      },
      "text/plain": [
       "  0%|          | 0/165 [00:00<?, ?it/s]"
      ]
     },
     "metadata": {},
     "output_type": "display_data"
    },
    {
     "name": "stdout",
     "output_type": "stream",
     "text": [
      "E03/12  loss 0.619  val mIoU 0.351\n"
     ]
    },
    {
     "data": {
      "application/vnd.jupyter.widget-view+json": {
       "model_id": "a281f54bfab14f7990864a4a54203ba1",
       "version_major": 2,
       "version_minor": 0
      },
      "text/plain": [
       "  0%|          | 0/165 [00:00<?, ?it/s]"
      ]
     },
     "metadata": {},
     "output_type": "display_data"
    },
    {
     "name": "stdout",
     "output_type": "stream",
     "text": [
      "E04/12  loss 0.562  val mIoU 0.354\n"
     ]
    },
    {
     "data": {
      "application/vnd.jupyter.widget-view+json": {
       "model_id": "2deb7286a1774a96b98b4047a97db163",
       "version_major": 2,
       "version_minor": 0
      },
      "text/plain": [
       "  0%|          | 0/165 [00:00<?, ?it/s]"
      ]
     },
     "metadata": {},
     "output_type": "display_data"
    },
    {
     "name": "stdout",
     "output_type": "stream",
     "text": [
      "E05/12  loss 0.484  val mIoU 0.356\n"
     ]
    },
    {
     "data": {
      "application/vnd.jupyter.widget-view+json": {
       "model_id": "e72ab8118f5d45d38bd73ccdb6c6c0b0",
       "version_major": 2,
       "version_minor": 0
      },
      "text/plain": [
       "  0%|          | 0/165 [00:00<?, ?it/s]"
      ]
     },
     "metadata": {},
     "output_type": "display_data"
    },
    {
     "name": "stdout",
     "output_type": "stream",
     "text": [
      "E06/12  loss 0.431  val mIoU 0.398\n"
     ]
    },
    {
     "data": {
      "application/vnd.jupyter.widget-view+json": {
       "model_id": "cbce3c1938a24580a05d3108a722ecb6",
       "version_major": 2,
       "version_minor": 0
      },
      "text/plain": [
       "  0%|          | 0/165 [00:00<?, ?it/s]"
      ]
     },
     "metadata": {},
     "output_type": "display_data"
    },
    {
     "name": "stdout",
     "output_type": "stream",
     "text": [
      "E07/12  loss 0.381  val mIoU 0.383\n"
     ]
    },
    {
     "data": {
      "application/vnd.jupyter.widget-view+json": {
       "model_id": "95637af6148149a388ee9ef0dce5e5f9",
       "version_major": 2,
       "version_minor": 0
      },
      "text/plain": [
       "  0%|          | 0/165 [00:00<?, ?it/s]"
      ]
     },
     "metadata": {},
     "output_type": "display_data"
    },
    {
     "name": "stdout",
     "output_type": "stream",
     "text": [
      "E08/12  loss 0.339  val mIoU 0.407\n"
     ]
    },
    {
     "data": {
      "application/vnd.jupyter.widget-view+json": {
       "model_id": "bf08553f9ad14e95a133c7a3e3be48f4",
       "version_major": 2,
       "version_minor": 0
      },
      "text/plain": [
       "  0%|          | 0/165 [00:00<?, ?it/s]"
      ]
     },
     "metadata": {},
     "output_type": "display_data"
    },
    {
     "name": "stdout",
     "output_type": "stream",
     "text": [
      "E09/12  loss 0.323  val mIoU 0.393\n"
     ]
    },
    {
     "data": {
      "application/vnd.jupyter.widget-view+json": {
       "model_id": "70f618eda22846e6b2e867cdb93ee6ac",
       "version_major": 2,
       "version_minor": 0
      },
      "text/plain": [
       "  0%|          | 0/165 [00:00<?, ?it/s]"
      ]
     },
     "metadata": {},
     "output_type": "display_data"
    },
    {
     "name": "stdout",
     "output_type": "stream",
     "text": [
      "E10/12  loss 0.296  val mIoU 0.415\n"
     ]
    },
    {
     "data": {
      "application/vnd.jupyter.widget-view+json": {
       "model_id": "dde4624c3a0e4862904a17211a20700c",
       "version_major": 2,
       "version_minor": 0
      },
      "text/plain": [
       "  0%|          | 0/165 [00:00<?, ?it/s]"
      ]
     },
     "metadata": {},
     "output_type": "display_data"
    },
    {
     "name": "stdout",
     "output_type": "stream",
     "text": [
      "E11/12  loss 0.297  val mIoU 0.388\n"
     ]
    },
    {
     "data": {
      "application/vnd.jupyter.widget-view+json": {
       "model_id": "4a2b206543854916a52ff77faf83747e",
       "version_major": 2,
       "version_minor": 0
      },
      "text/plain": [
       "  0%|          | 0/165 [00:00<?, ?it/s]"
      ]
     },
     "metadata": {},
     "output_type": "display_data"
    },
    {
     "name": "stdout",
     "output_type": "stream",
     "text": [
      "E12/12  loss 0.298  val mIoU 0.407\n",
      "DeepLabV3+       ➜ test mIoU 0.421\n"
     ]
    }
   ],
   "source": [
    "deeplab = smp.DeepLabV3Plus('timm-mobilenetv3_large_100',\n",
    "                            encoder_weights='imagenet',\n",
    "                            classes=NUM_CLASSES, activation=None).to(DEVICE)\n",
    "fit_model(deeplab, epochs=12, lr=5e-4, train_aug_pipe=strong_aug)\n",
    "miou_deeplab = evaluate(deeplab, 'DeepLabV3+')"
   ]
  },
  {
   "cell_type": "markdown",
   "metadata": {},
   "source": [
    "- mIoU активно растёт до ~0.42 к 10-й эпохе, затем слегка флуктирует → настройка lr и аугментаций удачна.  \n",
    "- Лёгкий энкодер MobileNetV3 позволяет получить высокую точность при небольшом размере модели.  \n",
    "- DeepLabV3+ демонстрирует лучший тестовый mIoU в сравнении с другими архитектурами на этом этапе.  "
   ]
  },
  {
   "cell_type": "markdown",
   "metadata": {
    "id": "Ee_y9PYqMQrW"
   },
   "source": [
    "## Свои модели"
   ]
  },
  {
   "cell_type": "markdown",
   "metadata": {
    "id": "rFgmcVDLMSqF"
   },
   "source": [
    "### Обычная"
   ]
  },
  {
   "cell_type": "markdown",
   "metadata": {},
   "source": [
    "- **Архитектура**: компактный U-Net с базовым числом каналов = 32, два сверточных слоя в каждом блоке, апсемплинг через билинейную интерполяцию и суммирование со скип-коннекшнами.  \n",
    "- **Обучение**: 8 эпох, lr = 3e-4, аугментации `train_aug`."
   ]
  },
  {
   "cell_type": "code",
   "execution_count": 11,
   "metadata": {
    "colab": {
     "base_uri": "https://localhost:8080/",
     "height": 178,
     "referenced_widgets": [
      "84518404d2be44658e5a94492c956cd4",
      "91a081e2cece42f8b8bdba04d367ecfe",
      "3ed00abe382b4be9b5eb779cf72612d4",
      "6815ed7474674384bd00c883a32f30e3",
      "369820c20a9b4bcdb6e2f00c593f288c",
      "836157bbf3554c98809a0aa33534ada2",
      "34db09708f61432b853e0811e364b180",
      "b2f540dfd9714e7fb5fd506f9ada6781",
      "1ccf48d092f14d01af7cb51ff0d892c6",
      "478651b16de344609e2501168bbcae80",
      "b50a8836e21d447fae5e7c82b0ecc049",
      "b7df8f14da1a416eb0d74f74fee0db1a",
      "14e354de0695415884d7e862a5cddc15",
      "d1d639166b7c4af2a500feda19ee82e1",
      "92a6ea1ac3c1488c83b172027e030527",
      "9792d26ace53473a989502e94d6ea421",
      "1418cecb2e3749cd9d4e3ea082fd7c8b",
      "4137f1c2ce834e81b98188fbd731ac2d",
      "5435464328124918837823a4881e66b6",
      "b99198b62c004fe9b4b0ee0717f63cf7",
      "6bea29c24ff1411aa962e0e5dca7261d",
      "28301fded38d49f580d770bc097dbcb3",
      "0e9316749e304abcafc3cff5e8381548",
      "2531ae0b67d64c738454ce46e5d9f0be",
      "48495bc4bdcc4fd8a3480f34264c19ba",
      "ada1f870000342d6b3c0f543cca13d08",
      "76228d31adf64acba3e93a1826a8800f",
      "5a4eae5ce28d4777ace6d3a1a379b805",
      "c8eb3ec9e4c8498ea8782445f99bb2c4",
      "af9a524214464642831e9d459ad44aed",
      "9a236b68f5274c46bf5ae351934b5f98",
      "5920b4c958124944bc2650e76fa2c9ca",
      "eaed9c57ec564dcb8874e5536abd1929",
      "f4ff670a19ef4280b7a0f8a07768c3cd",
      "6f4a80e84159490fbba9524bdeb7a158",
      "11a7a54f749e41d0b0545c8641328b71",
      "052d5b6b5bf8415a819f6a8cffc30c13",
      "e850c3a816fe4e22b40093430fea67a1",
      "64908c3da25b4b6dbf340f68d1070a8a",
      "8fd89d23e34c451fa76ad9de56ee85e1",
      "5274d112aaab4c72b88a5a15fd55b2b8",
      "8290f7345c5847e7b56e211b1d2fee92",
      "c7517737fc9845e48189764bf8feca8e",
      "ae3361e9c30f403f94451cc3d618a280",
      "231b50c9c5e1454299038f9c689897e0",
      "823e2e5633754803af6b2a16a924ba65",
      "e8a0dac7df8e4fe5a970d07477f8f762",
      "734c51474da14601948ef0d42ede81df",
      "ae615ef087e74915a41d8465d2e4f260",
      "d14b106d2c5c449c84a37bb95a6b49b0",
      "e628e1c0428145dcb24cdc5569225f40",
      "9e2c2983467a4ad2ab06a0b7e1329524",
      "8c98b88c7c664e2ebb2c8c16623152fe",
      "16c0c9ca548a45f1924111e8e88691c0",
      "53f0e3d43ae541fe91a4124c47ea0a7b",
      "20b3f83b430d49d3af7250c4926121b6",
      "ac4633c722a74169addcaeb8bea80797",
      "a5af89d2b1754925a529748cb209ab61",
      "2cdf27d5005546028a878f9ce7a8d91f",
      "a0981b13b3544a418373c14dc01b08ec",
      "ac50aa9829524f26accad10c38b86eaa",
      "b9576e897edf4a7e8db31a34a28a7ebf",
      "87835b9f31cb4cdcbcec36fdaa344a67",
      "87fbb31518bf4f858483769899cbddcc",
      "8382bcbc38654c14991a9f846ccde192",
      "441ec62c1ca44a93aa31171b508093d2",
      "8fd3646d932449a59b7395f47e5abdde",
      "95143bd0607841d7bff9d234c6c9c96d",
      "1d82c31e790c44969fdb1863c9af3895",
      "a8011e2a8dc1426c943595de68ca1f60",
      "ba3bc54d32074b558c25d50e7927bc63",
      "97000f5fe6284c78b7a43b6fd3b18fcc",
      "5389115a4c784d579c0631b3493a27c4",
      "a3b3884ced09401282b71226a358fedb",
      "5c2ff89f0b3844a38eb9e791357b3081",
      "27eafb79e64a4435aec51f481b1bfc7f",
      "7abace270cf245198228985e0e143a36",
      "3162622a702d4f168c4a2dfa33abc340",
      "5356f862fad04699a5d349a6994f8b51",
      "7272c16a42b5477087dc34a447a799c4",
      "fd3dddae5958455a8361de788300b8cd",
      "e945bc84612f416998f89425d838d016",
      "37c228c62c2947fa9d53b17fc6996c9b",
      "ad7d01bdfded4fe0acd6e08cdc0a88d5",
      "8a9449b7053b45469712fb9baf4ca8f5",
      "2c8e232dbc8846188aa372e51d6292bb",
      "003c618b690140bdbb5e004a8e7310da",
      "cac9a1464af34b6c9f0c6ac082212170"
     ]
    },
    "id": "nppojLs0zv7J",
    "outputId": "3c2db019-fe91-4cdb-84e2-88ead7cbf014"
   },
   "outputs": [
    {
     "data": {
      "application/vnd.jupyter.widget-view+json": {
       "model_id": "84518404d2be44658e5a94492c956cd4",
       "version_major": 2,
       "version_minor": 0
      },
      "text/plain": [
       "  0%|          | 0/165 [00:00<?, ?it/s]"
      ]
     },
     "metadata": {},
     "output_type": "display_data"
    },
    {
     "name": "stdout",
     "output_type": "stream",
     "text": [
      "E01/8  loss 1.595  val mIoU 0.066\n"
     ]
    },
    {
     "data": {
      "application/vnd.jupyter.widget-view+json": {
       "model_id": "b7df8f14da1a416eb0d74f74fee0db1a",
       "version_major": 2,
       "version_minor": 0
      },
      "text/plain": [
       "  0%|          | 0/165 [00:00<?, ?it/s]"
      ]
     },
     "metadata": {},
     "output_type": "display_data"
    },
    {
     "name": "stdout",
     "output_type": "stream",
     "text": [
      "E02/8  loss 1.452  val mIoU 0.066\n"
     ]
    },
    {
     "data": {
      "application/vnd.jupyter.widget-view+json": {
       "model_id": "0e9316749e304abcafc3cff5e8381548",
       "version_major": 2,
       "version_minor": 0
      },
      "text/plain": [
       "  0%|          | 0/165 [00:00<?, ?it/s]"
      ]
     },
     "metadata": {},
     "output_type": "display_data"
    },
    {
     "name": "stdout",
     "output_type": "stream",
     "text": [
      "E03/8  loss 1.416  val mIoU 0.066\n"
     ]
    },
    {
     "data": {
      "application/vnd.jupyter.widget-view+json": {
       "model_id": "f4ff670a19ef4280b7a0f8a07768c3cd",
       "version_major": 2,
       "version_minor": 0
      },
      "text/plain": [
       "  0%|          | 0/165 [00:00<?, ?it/s]"
      ]
     },
     "metadata": {},
     "output_type": "display_data"
    },
    {
     "name": "stdout",
     "output_type": "stream",
     "text": [
      "E04/8  loss 1.397  val mIoU 0.069\n"
     ]
    },
    {
     "data": {
      "application/vnd.jupyter.widget-view+json": {
       "model_id": "231b50c9c5e1454299038f9c689897e0",
       "version_major": 2,
       "version_minor": 0
      },
      "text/plain": [
       "  0%|          | 0/165 [00:00<?, ?it/s]"
      ]
     },
     "metadata": {},
     "output_type": "display_data"
    },
    {
     "name": "stdout",
     "output_type": "stream",
     "text": [
      "E05/8  loss 1.378  val mIoU 0.069\n"
     ]
    },
    {
     "data": {
      "application/vnd.jupyter.widget-view+json": {
       "model_id": "20b3f83b430d49d3af7250c4926121b6",
       "version_major": 2,
       "version_minor": 0
      },
      "text/plain": [
       "  0%|          | 0/165 [00:00<?, ?it/s]"
      ]
     },
     "metadata": {},
     "output_type": "display_data"
    },
    {
     "name": "stdout",
     "output_type": "stream",
     "text": [
      "E06/8  loss 1.354  val mIoU 0.069\n"
     ]
    },
    {
     "data": {
      "application/vnd.jupyter.widget-view+json": {
       "model_id": "8fd3646d932449a59b7395f47e5abdde",
       "version_major": 2,
       "version_minor": 0
      },
      "text/plain": [
       "  0%|          | 0/165 [00:00<?, ?it/s]"
      ]
     },
     "metadata": {},
     "output_type": "display_data"
    },
    {
     "name": "stdout",
     "output_type": "stream",
     "text": [
      "E07/8  loss 1.342  val mIoU 0.069\n"
     ]
    },
    {
     "data": {
      "application/vnd.jupyter.widget-view+json": {
       "model_id": "3162622a702d4f168c4a2dfa33abc340",
       "version_major": 2,
       "version_minor": 0
      },
      "text/plain": [
       "  0%|          | 0/165 [00:00<?, ?it/s]"
      ]
     },
     "metadata": {},
     "output_type": "display_data"
    },
    {
     "name": "stdout",
     "output_type": "stream",
     "text": [
      "E08/8  loss 1.324  val mIoU 0.068\n",
      "TinyUNet         ➜ test mIoU 0.069\n"
     ]
    }
   ],
   "source": [
    "class TinyUNet(nn.Module):\n",
    "    def __init__(self, n_cls=NUM_CLASSES, base=32):\n",
    "        super().__init__()\n",
    "        self.d1 = self._block(3, base)\n",
    "        self.d2 = self._block(base, base*2)\n",
    "        self.d3 = self._block(base*2, base*4)\n",
    "        self.pool = nn.MaxPool2d(2,2)\n",
    "        self.bot = self._block(base*4, base*8)\n",
    "        self.u3 = self._up(base*8, base*4)\n",
    "        self.u2 = self._up(base*4, base*2)\n",
    "        self.u1 = self._up(base*2, base)\n",
    "        self.head = nn.Conv2d(base, n_cls, 1)\n",
    "    def _block(self, c_in, c_out):\n",
    "        return nn.Sequential(\n",
    "            nn.Conv2d(c_in, c_out, 3, padding=1), nn.BatchNorm2d(c_out), nn.ReLU(inplace=True),\n",
    "            nn.Conv2d(c_out, c_out, 3, padding=1), nn.BatchNorm2d(c_out), nn.ReLU(inplace=True)\n",
    "        )\n",
    "    def _up(self, c_in, c_out):\n",
    "        return nn.Sequential(nn.Upsample(scale_factor=2, mode='bilinear', align_corners=False),\n",
    "                             nn.Conv2d(c_in, c_out, 3, padding=1), nn.ReLU(inplace=True))\n",
    "    def forward(self, x):\n",
    "        d1 = self.d1(x)\n",
    "        d2 = self.d2(self.pool(d1))\n",
    "        d3 = self.d3(self.pool(d2))\n",
    "        b  = self.bot(self.pool(d3))\n",
    "        x  = self.u3(b) + d3\n",
    "        x  = self.u2(x) + d2\n",
    "        x  = self.u1(x) + d1\n",
    "        return self.head(x)\n",
    "\n",
    "tiny = TinyUNet().to(DEVICE)\n",
    "fit_model(tiny, epochs=8, lr=3e-4, train_aug_pipe=train_aug)\n",
    "miou_tiny = evaluate(tiny, 'TinyUNet')"
   ]
  },
  {
   "cell_type": "markdown",
   "metadata": {},
   "source": [
    "- mIoU практически не растёт выше 0.07 → модель слишком лёгкая для сегментации VOC.  \n",
    "- Простая архитектура без достаточной пропускной способности неспособна захватить сложные объекты.  \n",
    "- TinyUNet полезен как эталон «минимальной» модели, но для реальной задачи нужны более мощные архитектуры.  "
   ]
  },
  {
   "cell_type": "markdown",
   "metadata": {
    "id": "SviTzKTiMXkS"
   },
   "source": [
    "### Супер плюс плюс своя модель"
   ]
  },
  {
   "cell_type": "markdown",
   "metadata": {},
   "source": [
    "- **Архитектура**: наследник TinyUNet, добавлен `Dropout2d(p=0.2)` на выходе для регуляризации.  \n",
    "- **Обучение**: 10 эпох, lr = 1e-3, аугментации `strong_aug`"
   ]
  },
  {
   "cell_type": "code",
   "execution_count": 12,
   "metadata": {
    "colab": {
     "base_uri": "https://localhost:8080/",
     "height": 213,
     "referenced_widgets": [
      "8ccf6ee403614f8182597a341e926fe6",
      "9bb6afd3ceb54fa9aeaa46e36c277983",
      "ec716f2ced05489d9ee1382061fbdc45",
      "211d3cc8b1c644a485641cfb69b826d7",
      "bc347fdc68ef4f8e844d070b3b37df1c",
      "6b67e30af6e847bf815da84504c23d54",
      "792be89d36fd4f86abba8b481a21b3b4",
      "f23e146170d54f16892208433c503fc0",
      "b1da8c4b20a94ef8929f9b93ca4f8d4e",
      "50d7e638610c453fb3b2bb95df954745",
      "48a71f2bf59e448599291fadb5bc7b61",
      "c8329c2b67394d75b0af9e3d99432760",
      "29d1cd47bdff4789b1cc1b05899ed86b",
      "2fa922f706c04b57b3f085344df6aa5e",
      "9927dbeab1074b21a29bf163fd9f7423",
      "ce98111f7a304534a3bf647878e3e656",
      "f6d548c9e87249e5b54106ae9d93d433",
      "fb78d495b4ae42d68c067783ae4fedbb",
      "5b08de0118b842dba32fb6b72561ea4f",
      "be7134667802425b896e7997614b9971",
      "7742c1509b7741f8ad5530d8e777e113",
      "e86647bf94484ddfbe89bbfd3cdc0cec",
      "ea56dbb2e03541cb8179bdc060ee730d",
      "45d0de3607064f19aebf3f59bf3dff47",
      "d6d49809a2654a8e9076049f872506f4",
      "6a3fe190670c4ba4ba436343304d6e9d",
      "66835f817a4a4578a31dead3a4214e34",
      "7ca98cad59b943008dad2632460cdbcc",
      "c7908c2f759748d39e6ab648d7de279a",
      "8e469c5d8b7d46c28124dbec0609c45b",
      "58863ec2ed304b5eb753b63ff9b5747d",
      "0a83d042507d4e818bd1e0fc5ef8b6b7",
      "38a6a81d316d4399aac45aad1c117bd3",
      "ee62111b4ebd4a339fc62fbc9b55b9d2",
      "1c30301542ab4d9bb5c8df04d9163f00",
      "36dc7d5411c44bc5ad23250ff3c09305",
      "4322b5f5eb1644beb34febc32c936622",
      "eb2a781f7a1d46e8890bffccb54278cc",
      "a9c8b2a9015745f2ada96a5cffb26840",
      "5457e3893d62411b9a59fd3721bfd9ca",
      "98c627340bd345fc894a544316a1fce6",
      "10222b5211b84068a9c353dfa531bcda",
      "9aff99b04634456fb4d786a36dbf140a",
      "e58d73e2280c4260ba53e7006868e323",
      "fdfa45f809f544d380d650774818e885",
      "3eca44f8e22a4fbd91d34ada479e4ed0",
      "2f19d44e3e1e49b5882af94446ecf1e1",
      "b05fcf67116f4ec3825f3dd209267aa8",
      "601e992dd769422dafc5debd965898ab",
      "261450652c9a4546b0f593847fe393e5",
      "8c1708946a7648b8980e29518cdaa4e9",
      "3cb37a0186ad44ae849317139fb3a074",
      "d3548e6aea704ffd94a2b075452f543c",
      "1ef70e19e20f42509643f619c81504fb",
      "3d4860d5a3d540a5bac1bf8d654cdc92",
      "8c179b7e7340461e969200b9eed8d68b",
      "b2b10f535f7a4e5eab7dc23d7c977dbd",
      "f6842299af634b01803683fae6ec0597",
      "cea99c38fd2a41f485a894f6f64f45c0",
      "c3aa65823a124489b104f35b80c8378c",
      "9734ba3f494e4f88ae6e9fa285ceed22",
      "e74b96ffc1784660b1f649b6b28f9d33",
      "071d80cc7f0846408abf63c9c7923580",
      "c1fe32cd3b0e483f9bedea0567d312de",
      "988944bdda8d4d79ab6027ee4d136169",
      "c4290828e15845a8b8f39c7bb1a0efcc",
      "0b00c503b5d54ec597c58435e2167df9",
      "8b5ca2a6f420451bb5bb7b70a8f64d09",
      "deca1a07e8a44e2da1f4fda2527653c1",
      "cb7d124a4be34ffea1285109c7917334",
      "ed56d1a0d5e24930a851eb7891a14cf3",
      "04e4639d00364ff58a6cb1a21e35f11e",
      "36f62154d5b647dd99159a2abba906ec",
      "2624e406f20247219d44d5eec3fc7e26",
      "75fadffc5d9244fd8007d098e189018f",
      "1b03c665808d4d59bcb91afd95d8aeba",
      "490620a81171420e93559fa8b795c566",
      "8e01b57153f042e6962b4b55d69f5204",
      "9c60997e6560417aa823e85f93d6aebb",
      "3e9c74c848e04af5a0586711bce4ef90",
      "507a085863dd47a1836d74a592fabd2d",
      "7a3b1184f6b74985a7acf35590f3fc48",
      "9a8f6f515f1c41b996ebaf5261c752e2",
      "58a7bc45da74408998adbe5ce994679b",
      "25bd55175f1d41dcabba7a1bdd4a7989",
      "f4e801dec9894f72ab0805e883f78ac2",
      "8181389742cf49179cdb4f72a687c0ef",
      "e2180210a68e4a3383f0a8baeea07e1d",
      "d019f0211f7b4bef85f270f7cbd2d1bc",
      "2701e155a0e64636b25b364491d577dc",
      "78a5179176b8401ab45d71b8f7cdb282",
      "266531e9701a479483436c7151bcaab8",
      "1231d9806ba64dec94194db60a58fc7b",
      "ee06b271a2ed4242ad85717b71fcd92d",
      "7a33076d6cfa4ed483a440e8b9a3e3f3",
      "874fcb064527456cb737cca2f8a794ae",
      "05ff780af5ce4ef796df49fc369320e6",
      "4732b6251846455bbc80281b75584335",
      "416e33dd76ec4013b1ec7d8768acdb45",
      "3921b79bf53946649807fbdcd39a63cd",
      "32bcb821712d4d4cbebc6780c50028b4",
      "0000d90f2f9148488d54e6bcb9f516e7",
      "e1dcd613330d43a6842090376124a4cf",
      "05f4fad0a71a4003994e5c6f16a96e4d",
      "c2754467f1e1402b8bdbc00ddb223860",
      "1bc164ba54b749b9b611dc137776e986",
      "ab2c53c3b3064fb9b53902adabca8fcc",
      "e0de898918934ec0bcb538e70ea5db42",
      "9548350de66845459079b2236f3099f6",
      "d79e053e3086459f800a1661d1cc7e84"
     ]
    },
    "id": "aLdIM8C9zynf",
    "outputId": "9252c259-5c45-4980-db97-ff96dc5afec7"
   },
   "outputs": [
    {
     "data": {
      "application/vnd.jupyter.widget-view+json": {
       "model_id": "8ccf6ee403614f8182597a341e926fe6",
       "version_major": 2,
       "version_minor": 0
      },
      "text/plain": [
       "  0%|          | 0/165 [00:00<?, ?it/s]"
      ]
     },
     "metadata": {},
     "output_type": "display_data"
    },
    {
     "name": "stdout",
     "output_type": "stream",
     "text": [
      "E01/10  loss 1.912  val mIoU 0.067\n"
     ]
    },
    {
     "data": {
      "application/vnd.jupyter.widget-view+json": {
       "model_id": "c8329c2b67394d75b0af9e3d99432760",
       "version_major": 2,
       "version_minor": 0
      },
      "text/plain": [
       "  0%|          | 0/165 [00:00<?, ?it/s]"
      ]
     },
     "metadata": {},
     "output_type": "display_data"
    },
    {
     "name": "stdout",
     "output_type": "stream",
     "text": [
      "E02/10  loss 1.825  val mIoU 0.070\n"
     ]
    },
    {
     "data": {
      "application/vnd.jupyter.widget-view+json": {
       "model_id": "ea56dbb2e03541cb8179bdc060ee730d",
       "version_major": 2,
       "version_minor": 0
      },
      "text/plain": [
       "  0%|          | 0/165 [00:00<?, ?it/s]"
      ]
     },
     "metadata": {},
     "output_type": "display_data"
    },
    {
     "name": "stdout",
     "output_type": "stream",
     "text": [
      "E03/10  loss 1.812  val mIoU 0.073\n"
     ]
    },
    {
     "data": {
      "application/vnd.jupyter.widget-view+json": {
       "model_id": "ee62111b4ebd4a339fc62fbc9b55b9d2",
       "version_major": 2,
       "version_minor": 0
      },
      "text/plain": [
       "  0%|          | 0/165 [00:00<?, ?it/s]"
      ]
     },
     "metadata": {},
     "output_type": "display_data"
    },
    {
     "name": "stdout",
     "output_type": "stream",
     "text": [
      "E04/10  loss 1.786  val mIoU 0.072\n"
     ]
    },
    {
     "data": {
      "application/vnd.jupyter.widget-view+json": {
       "model_id": "fdfa45f809f544d380d650774818e885",
       "version_major": 2,
       "version_minor": 0
      },
      "text/plain": [
       "  0%|          | 0/165 [00:00<?, ?it/s]"
      ]
     },
     "metadata": {},
     "output_type": "display_data"
    },
    {
     "name": "stdout",
     "output_type": "stream",
     "text": [
      "E05/10  loss 1.752  val mIoU 0.068\n"
     ]
    },
    {
     "data": {
      "application/vnd.jupyter.widget-view+json": {
       "model_id": "8c179b7e7340461e969200b9eed8d68b",
       "version_major": 2,
       "version_minor": 0
      },
      "text/plain": [
       "  0%|          | 0/165 [00:00<?, ?it/s]"
      ]
     },
     "metadata": {},
     "output_type": "display_data"
    },
    {
     "name": "stdout",
     "output_type": "stream",
     "text": [
      "E06/10  loss 1.738  val mIoU 0.069\n"
     ]
    },
    {
     "data": {
      "application/vnd.jupyter.widget-view+json": {
       "model_id": "0b00c503b5d54ec597c58435e2167df9",
       "version_major": 2,
       "version_minor": 0
      },
      "text/plain": [
       "  0%|          | 0/165 [00:00<?, ?it/s]"
      ]
     },
     "metadata": {},
     "output_type": "display_data"
    },
    {
     "name": "stdout",
     "output_type": "stream",
     "text": [
      "E07/10  loss 1.754  val mIoU 0.071\n"
     ]
    },
    {
     "data": {
      "application/vnd.jupyter.widget-view+json": {
       "model_id": "8e01b57153f042e6962b4b55d69f5204",
       "version_major": 2,
       "version_minor": 0
      },
      "text/plain": [
       "  0%|          | 0/165 [00:00<?, ?it/s]"
      ]
     },
     "metadata": {},
     "output_type": "display_data"
    },
    {
     "name": "stdout",
     "output_type": "stream",
     "text": [
      "E08/10  loss 1.734  val mIoU 0.067\n"
     ]
    },
    {
     "data": {
      "application/vnd.jupyter.widget-view+json": {
       "model_id": "d019f0211f7b4bef85f270f7cbd2d1bc",
       "version_major": 2,
       "version_minor": 0
      },
      "text/plain": [
       "  0%|          | 0/165 [00:00<?, ?it/s]"
      ]
     },
     "metadata": {},
     "output_type": "display_data"
    },
    {
     "name": "stdout",
     "output_type": "stream",
     "text": [
      "E09/10  loss 1.720  val mIoU 0.068\n"
     ]
    },
    {
     "data": {
      "application/vnd.jupyter.widget-view+json": {
       "model_id": "3921b79bf53946649807fbdcd39a63cd",
       "version_major": 2,
       "version_minor": 0
      },
      "text/plain": [
       "  0%|          | 0/165 [00:00<?, ?it/s]"
      ]
     },
     "metadata": {},
     "output_type": "display_data"
    },
    {
     "name": "stdout",
     "output_type": "stream",
     "text": [
      "E10/10  loss 1.716  val mIoU 0.067\n",
      "TinyUNet+        ➜ test mIoU 0.070\n"
     ]
    }
   ],
   "source": [
    "class TinyUNetPlus(TinyUNet):\n",
    "    def __init__(self):\n",
    "        super().__init__()\n",
    "        self.drop = nn.Dropout2d(p=0.2)\n",
    "    def forward(self, x):\n",
    "        x = super().forward(x)\n",
    "        return self.drop(x)\n",
    "\n",
    "tiny_plus = TinyUNetPlus().to(DEVICE)\n",
    "fit_model(tiny_plus, epochs=10, lr=1e-3, train_aug_pipe=strong_aug)\n",
    "miou_tiny_plus = evaluate(tiny_plus, 'TinyUNet+')"
   ]
  },
  {
   "cell_type": "markdown",
   "metadata": {},
   "source": [
    "- Добавление Dropout слегка выровняло результаты и дало небольшой прирост на валидации.  \n",
    "- Общий прирост по сравнению с TinyUNet минимален (0.070 vs 0.069), модель по-прежнему слишком лёгкая для задачи VOC.  \n",
    "- Dropout помогает бороться с переобучением, но для эффективной сегментации нужны более глубокие и сложные архитектуры."
   ]
  },
  {
   "cell_type": "markdown",
   "metadata": {
    "id": "u6w19mH5McyF"
   },
   "source": [
    "## Результаты"
   ]
  },
  {
   "cell_type": "code",
   "execution_count": 13,
   "metadata": {
    "colab": {
     "base_uri": "https://localhost:8080/"
    },
    "id": "AG0QOn-CMeSD",
    "outputId": "55e9f979-b964-4b92-b864-770b7f941f38"
   },
   "outputs": [
    {
     "name": "stdout",
     "output_type": "stream",
     "text": [
      "\n",
      "### Итоговая mIoU\n",
      "UNet-R34       : 0.156\n",
      "SegFormer-B0   : 0.407\n",
      "UNet++-B3      : 0.059\n",
      "DeepLabV3+     : 0.421\n",
      "TinyUNet       : 0.069\n",
      "TinyUNet+      : 0.070\n",
      "\n",
      "Лучшая модель — DeepLabV3+ (mIoU 0.421), превышение над бейзлайном UNet-R34: 169.4%\n"
     ]
    }
   ],
   "source": [
    "scores = {\n",
    "    'UNet-R34'   : miou_unet34,\n",
    "    'SegFormer-B0': miou_segformer,\n",
    "    'UNet++-B3'  : miou_unetpp,\n",
    "    'DeepLabV3+' : miou_deeplab,\n",
    "    'TinyUNet'   : miou_tiny,\n",
    "    'TinyUNet+'  : miou_tiny_plus,\n",
    "}\n",
    "\n",
    "print('\\n### Итоговая mIoU')\n",
    "for n,v in scores.items():\n",
    "    print(f'{n:15s}: {v:.3f}')\n",
    "\n",
    "base_name = 'UNet-R34'\n",
    "best_name = max(scores, key=scores.get)\n",
    "gain = 100 * (scores[best_name]-scores[base_name]) / scores[base_name]\n",
    "print(f'\\nЛучшая модель — {best_name} (mIoU {scores[best_name]:.3f}), '\n",
    "      f'превышение над бейзлайном {base_name}: {gain:.1f}%')"
   ]
  },
  {
   "cell_type": "markdown",
   "metadata": {},
   "source": [
    "- **DeepLabV3+ (0.421)** вновь показывает лидирующий результат благодаря эффективному ASPP-блок-механизму и лёгкому, но выразительному энкодеру MobileNetV3.  \n",
    "- **SegFormer-B0 (0.407)** почти дотягивает до DeepLabV3+ — трансформер хорошо справляется с глобальным контекстом даже в младшем варианете.  \n",
    "- **UNet-R34 (0.156)**, как базовый CNN-подход, демонстрирует скромный результат: простая «склеивающая» архитектура плохо обрабатывает сложные границы сегментов.  \n",
    "- **UNet++-B3 (0.059)** оказался значительно слабее — вложенные мостики и больший энкодер не компенсировали недостаток адекватных аугментаций и более жёсткую оптимизацию.  \n",
    "- **TinyUNet / TinyUNet+ (0.069 / 0.070)** — собственные упрощённые U-сети слишком мелки, чтобы захватывать необходимые признаки; добавление дропаут-блока почти не изменило ситуацию.  \n",
    "\n",
    "В целом, глубокие архитектуры со специализированными блоками (ASPP в DeepLabV3+, многоуровневые представления в SegFormer) гораздо эффективнее классического U-Net на VOC2012. "
   ]
  },
  {
   "cell_type": "markdown",
   "metadata": {},
   "source": []
  }
 ],
 "metadata": {
  "accelerator": "GPU",
  "colab": {
   "gpuType": "T4",
   "provenance": []
  },
  "kernelspec": {
   "display_name": "Python 3 (ipykernel)",
   "language": "python",
   "name": "python3"
  },
  "language_info": {
   "codemirror_mode": {
    "name": "ipython",
    "version": 3
   },
   "file_extension": ".py",
   "mimetype": "text/x-python",
   "name": "python",
   "nbconvert_exporter": "python",
   "pygments_lexer": "ipython3",
   "version": "3.10.0"
  }
 },
 "nbformat": 4,
 "nbformat_minor": 4
}
